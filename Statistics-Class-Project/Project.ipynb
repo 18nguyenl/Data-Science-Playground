{
 "cells": [
  {
   "cell_type": "markdown",
   "id": "84e74930-76c0-4783-97ab-843353ea59c6",
   "metadata": {},
   "source": [
    "# Statistics Project"
   ]
  },
  {
   "cell_type": "code",
   "execution_count": 157,
   "id": "2bdc7368-1296-4e0d-b674-93bc1c5ff085",
   "metadata": {},
   "outputs": [],
   "source": [
    "import pandas as pd\n",
    "import matplotlib.pyplot as plt\n",
    "import numpy as np # linear algebrab\n",
    "import plotly.express as px\n",
    "from scipy.stats import norm\n",
    "from scipy.stats import chisquare\n",
    "from scipy import stats"
   ]
  },
  {
   "cell_type": "code",
   "execution_count": 6,
   "metadata": {},
   "outputs": [],
   "source": [
    "df2 = pd.read_csv('data/responses.csv', delimiter=',', nrows=nRowsRead)\n",
    "df2.dataframeName = 'responses.csv'"
   ]
  },
  {
   "source": [
    "df2.head(5)"
   ],
   "cell_type": "markdown",
   "metadata": {}
  },
  {
   "source": [
    "## Part 1"
   ],
   "cell_type": "markdown",
   "metadata": {}
  },
  {
   "source": [
    "looks = df2['Spending on looks']\n",
    "looks = looks.rename('Agreement Level')\n",
    "looks"
   ],
   "cell_type": "code",
   "metadata": {},
   "execution_count": 44,
   "outputs": [
    {
     "output_type": "execute_result",
     "data": {
      "text/plain": [
       "0      3.0\n",
       "1      2.0\n",
       "2      3.0\n",
       "3      4.0\n",
       "4      3.0\n",
       "      ... \n",
       "995    2.0\n",
       "996    3.0\n",
       "997    2.0\n",
       "998    3.0\n",
       "999    2.0\n",
       "Name: Agreement Level, Length: 1000, dtype: float64"
      ]
     },
     "metadata": {},
     "execution_count": 44
    }
   ]
  },
  {
   "source": [
    "### Mean, Variance"
   ],
   "cell_type": "markdown",
   "metadata": {}
  },
  {
   "cell_type": "code",
   "execution_count": 11,
   "metadata": {},
   "outputs": [
    {
     "output_type": "execute_result",
     "data": {
      "text/plain": [
       "count    997.000000\n",
       "mean       3.108325\n",
       "std        1.201698\n",
       "min        1.000000\n",
       "25%        2.000000\n",
       "50%        3.000000\n",
       "75%        4.000000\n",
       "max        5.000000\n",
       "Name: Spending on looks, dtype: float64"
      ]
     },
     "metadata": {},
     "execution_count": 11
    }
   ],
   "source": [
    "looks.describe()"
   ]
  },
  {
   "source": [
    "### Percentiles"
   ],
   "cell_type": "markdown",
   "metadata": {}
  },
  {
   "cell_type": "code",
   "execution_count": 23,
   "metadata": {},
   "outputs": [
    {
     "output_type": "stream",
     "name": "stdout",
     "text": [
      "10th percentile:\n1.0\n90th percentile:\n5.0\n"
     ]
    }
   ],
   "source": [
    "print('10th percentile:')\n",
    "print(looks.quantile(0.1)) # 10th percentile\n",
    "print('90th percentile:')\n",
    "print(looks.quantile(0.9)) # 90th percentile"
   ]
  },
  {
   "source": [
    "### Box and Whiskers"
   ],
   "cell_type": "markdown",
   "metadata": {}
  },
  {
   "cell_type": "code",
   "execution_count": 45,
   "metadata": {},
   "outputs": [
    {
     "output_type": "display_data",
     "data": {
      "application/vnd.plotly.v1+json": {
       "config": {
        "plotlyServerURL": "https://plot.ly"
       },
       "data": [
        {
         "alignmentgroup": "True",
         "hovertemplate": "Agreement Level=%{x}<extra></extra>",
         "legendgroup": "",
         "marker": {
          "color": "#636efa"
         },
         "name": "",
         "notched": false,
         "offsetgroup": "",
         "orientation": "h",
         "showlegend": false,
         "type": "box",
         "x": [
          3,
          2,
          3,
          4,
          3,
          1,
          4,
          4,
          1,
          3,
          4,
          1,
          3,
          4,
          5,
          3,
          3,
          2,
          4,
          3,
          2,
          1,
          2,
          4,
          5,
          3,
          4,
          3,
          4,
          3,
          4,
          2,
          5,
          1,
          3,
          3,
          3,
          3,
          1,
          3,
          5,
          1,
          2,
          5,
          5,
          5,
          4,
          4,
          3,
          3,
          4,
          2,
          5,
          1,
          4,
          4,
          5,
          5,
          2,
          2,
          1,
          4,
          3,
          4,
          5,
          3,
          2,
          2,
          4,
          1,
          3,
          2,
          2,
          4,
          5,
          4,
          2,
          5,
          2,
          5,
          3,
          2,
          3,
          5,
          5,
          2,
          1,
          5,
          2,
          3,
          4,
          3,
          3,
          2,
          3,
          4,
          1,
          1,
          1,
          2,
          4,
          2,
          3,
          5,
          4,
          2,
          2,
          3,
          3,
          2,
          2,
          2,
          3,
          2,
          3,
          5,
          2,
          2,
          1,
          4,
          1,
          1,
          2,
          2,
          4,
          4,
          1,
          2,
          3,
          3,
          5,
          3,
          2,
          2,
          5,
          1,
          2,
          1,
          1,
          1,
          1,
          1,
          4,
          5,
          1,
          2,
          3,
          1,
          3,
          1,
          3,
          3,
          4,
          5,
          3,
          5,
          4,
          2,
          5,
          3,
          2,
          4,
          4,
          3,
          5,
          4,
          2,
          1,
          5,
          2,
          2,
          5,
          1,
          2,
          2,
          1,
          2,
          3,
          2,
          3,
          4,
          2,
          4,
          4,
          2,
          2,
          null,
          1,
          3,
          1,
          3,
          1,
          5,
          3,
          4,
          4,
          4,
          4,
          2,
          3,
          2,
          4,
          4,
          4,
          2,
          1,
          3,
          3,
          4,
          2,
          5,
          4,
          4,
          4,
          4,
          5,
          5,
          2,
          4,
          5,
          4,
          1,
          4,
          5,
          2,
          3,
          3,
          2,
          1,
          1,
          4,
          5,
          1,
          3,
          1,
          4,
          5,
          4,
          5,
          4,
          2,
          4,
          4,
          1,
          4,
          4,
          3,
          4,
          5,
          3,
          4,
          3,
          2,
          5,
          3,
          1,
          5,
          3,
          1,
          3,
          3,
          5,
          3,
          5,
          1,
          3,
          3,
          3,
          4,
          2,
          4,
          4,
          1,
          3,
          3,
          4,
          5,
          4,
          1,
          5,
          4,
          2,
          4,
          3,
          3,
          3,
          4,
          4,
          2,
          2,
          4,
          2,
          5,
          1,
          3,
          4,
          2,
          2,
          4,
          3,
          3,
          3,
          4,
          2,
          1,
          5,
          3,
          1,
          4,
          4,
          3,
          5,
          1,
          3,
          1,
          5,
          3,
          2,
          3,
          2,
          2,
          3,
          3,
          4,
          3,
          4,
          3,
          3,
          5,
          5,
          3,
          3,
          2,
          4,
          2,
          2,
          1,
          3,
          5,
          2,
          5,
          5,
          4,
          3,
          3,
          2,
          3,
          5,
          5,
          5,
          3,
          4,
          4,
          3,
          5,
          2,
          3,
          5,
          2,
          4,
          5,
          1,
          1,
          1,
          4,
          4,
          2,
          3,
          3,
          3,
          4,
          3,
          2,
          1,
          5,
          1,
          1,
          1,
          3,
          2,
          4,
          4,
          5,
          4,
          4,
          3,
          3,
          5,
          4,
          4,
          2,
          3,
          3,
          2,
          4,
          3,
          1,
          5,
          3,
          4,
          3,
          3,
          1,
          1,
          4,
          3,
          3,
          4,
          3,
          4,
          3,
          4,
          5,
          2,
          3,
          5,
          4,
          2,
          2,
          1,
          4,
          1,
          4,
          2,
          3,
          3,
          1,
          2,
          2,
          5,
          2,
          3,
          2,
          3,
          5,
          3,
          4,
          5,
          2,
          5,
          4,
          3,
          5,
          3,
          2,
          4,
          4,
          2,
          4,
          2,
          5,
          4,
          5,
          3,
          4,
          3,
          3,
          1,
          2,
          3,
          5,
          4,
          2,
          2,
          5,
          4,
          3,
          2,
          4,
          3,
          3,
          2,
          2,
          1,
          3,
          2,
          4,
          3,
          3,
          3,
          4,
          2,
          3,
          5,
          3,
          2,
          2,
          5,
          2,
          5,
          3,
          3,
          3,
          3,
          3,
          4,
          2,
          3,
          3,
          2,
          3,
          4,
          4,
          1,
          5,
          3,
          3,
          4,
          3,
          4,
          4,
          3,
          5,
          3,
          2,
          1,
          5,
          5,
          4,
          3,
          3,
          5,
          4,
          4,
          2,
          3,
          3,
          5,
          1,
          2,
          2,
          1,
          5,
          4,
          3,
          5,
          5,
          1,
          1,
          3,
          3,
          5,
          4,
          2,
          4,
          1,
          2,
          1,
          3,
          4,
          4,
          3,
          4,
          4,
          3,
          5,
          4,
          3,
          2,
          3,
          1,
          1,
          3,
          5,
          3,
          3,
          2,
          null,
          3,
          2,
          5,
          4,
          4,
          5,
          1,
          2,
          3,
          3,
          2,
          2,
          2,
          3,
          3,
          2,
          2,
          4,
          1,
          4,
          4,
          4,
          3,
          3,
          5,
          2,
          4,
          1,
          5,
          3,
          2,
          3,
          2,
          3,
          1,
          2,
          4,
          4,
          2,
          4,
          2,
          2,
          2,
          5,
          5,
          4,
          4,
          2,
          2,
          3,
          5,
          2,
          3,
          3,
          3,
          2,
          5,
          3,
          3,
          1,
          2,
          5,
          4,
          3,
          2,
          2,
          4,
          1,
          3,
          4,
          4,
          2,
          4,
          2,
          4,
          2,
          2,
          4,
          2,
          3,
          4,
          4,
          3,
          3,
          1,
          2,
          4,
          4,
          5,
          4,
          1,
          3,
          2,
          4,
          3,
          3,
          3,
          2,
          3,
          1,
          3,
          3,
          3,
          4,
          2,
          3,
          4,
          3,
          4,
          4,
          1,
          1,
          3,
          2,
          4,
          2,
          3,
          4,
          3,
          3,
          3,
          4,
          3,
          5,
          4,
          3,
          2,
          3,
          2,
          4,
          5,
          4,
          3,
          2,
          3,
          2,
          4,
          3,
          3,
          2,
          2,
          4,
          4,
          2,
          4,
          3,
          3,
          1,
          2,
          3,
          3,
          1,
          3,
          3,
          4,
          1,
          2,
          3,
          4,
          5,
          5,
          3,
          3,
          4,
          2,
          3,
          1,
          2,
          4,
          3,
          5,
          3,
          4,
          3,
          4,
          5,
          2,
          2,
          4,
          4,
          3,
          3,
          3,
          4,
          5,
          2,
          4,
          3,
          4,
          4,
          3,
          2,
          4,
          3,
          5,
          3,
          3,
          2,
          5,
          3,
          4,
          4,
          3,
          3,
          2,
          4,
          3,
          5,
          4,
          3,
          4,
          5,
          3,
          2,
          4,
          5,
          3,
          3,
          3,
          5,
          3,
          5,
          1,
          5,
          4,
          2,
          1,
          5,
          5,
          4,
          3,
          3,
          4,
          3,
          3,
          3,
          1,
          5,
          3,
          4,
          4,
          5,
          3,
          2,
          5,
          4,
          4,
          1,
          4,
          5,
          3,
          2,
          3,
          3,
          3,
          5,
          3,
          4,
          2,
          4,
          2,
          2,
          3,
          4,
          5,
          5,
          2,
          3,
          5,
          1,
          4,
          4,
          3,
          5,
          1,
          5,
          4,
          4,
          4,
          5,
          5,
          2,
          3,
          5,
          4,
          3,
          4,
          4,
          5,
          3,
          2,
          5,
          3,
          3,
          4,
          4,
          2,
          3,
          2,
          3,
          2,
          5,
          3,
          5,
          3,
          4,
          4,
          3,
          4,
          3,
          5,
          4,
          4,
          5,
          4,
          2,
          5,
          4,
          2,
          3,
          4,
          2,
          5,
          3,
          2,
          3,
          4,
          3,
          2,
          4,
          3,
          4,
          4,
          1,
          3,
          1,
          3,
          4,
          2,
          4,
          2,
          4,
          4,
          3,
          4,
          3,
          2,
          3,
          1,
          3,
          3,
          4,
          3,
          4,
          5,
          3,
          4,
          4,
          3,
          4,
          2,
          3,
          3,
          4,
          4,
          4,
          2,
          3,
          1,
          2,
          5,
          2,
          4,
          4,
          2,
          3,
          4,
          1,
          4,
          3,
          3,
          2,
          3,
          4,
          1,
          3,
          2,
          3,
          3,
          3,
          4,
          3,
          2,
          3,
          3,
          null,
          2,
          3,
          5,
          2,
          2,
          1,
          5,
          3,
          2,
          2,
          1,
          3,
          4,
          3,
          2,
          4,
          2,
          2,
          4,
          4,
          1,
          3,
          1,
          2,
          5,
          3,
          3,
          2,
          1,
          3,
          4,
          2,
          3,
          2,
          3,
          2
         ],
         "x0": " ",
         "xaxis": "x",
         "y0": " ",
         "yaxis": "y"
        }
       ],
       "layout": {
        "boxmode": "group",
        "legend": {
         "tracegroupgap": 0
        },
        "margin": {
         "t": 60
        },
        "template": {
         "data": {
          "bar": [
           {
            "error_x": {
             "color": "#2a3f5f"
            },
            "error_y": {
             "color": "#2a3f5f"
            },
            "marker": {
             "line": {
              "color": "#E5ECF6",
              "width": 0.5
             }
            },
            "type": "bar"
           }
          ],
          "barpolar": [
           {
            "marker": {
             "line": {
              "color": "#E5ECF6",
              "width": 0.5
             }
            },
            "type": "barpolar"
           }
          ],
          "carpet": [
           {
            "aaxis": {
             "endlinecolor": "#2a3f5f",
             "gridcolor": "white",
             "linecolor": "white",
             "minorgridcolor": "white",
             "startlinecolor": "#2a3f5f"
            },
            "baxis": {
             "endlinecolor": "#2a3f5f",
             "gridcolor": "white",
             "linecolor": "white",
             "minorgridcolor": "white",
             "startlinecolor": "#2a3f5f"
            },
            "type": "carpet"
           }
          ],
          "choropleth": [
           {
            "colorbar": {
             "outlinewidth": 0,
             "ticks": ""
            },
            "type": "choropleth"
           }
          ],
          "contour": [
           {
            "colorbar": {
             "outlinewidth": 0,
             "ticks": ""
            },
            "colorscale": [
             [
              0,
              "#0d0887"
             ],
             [
              0.1111111111111111,
              "#46039f"
             ],
             [
              0.2222222222222222,
              "#7201a8"
             ],
             [
              0.3333333333333333,
              "#9c179e"
             ],
             [
              0.4444444444444444,
              "#bd3786"
             ],
             [
              0.5555555555555556,
              "#d8576b"
             ],
             [
              0.6666666666666666,
              "#ed7953"
             ],
             [
              0.7777777777777778,
              "#fb9f3a"
             ],
             [
              0.8888888888888888,
              "#fdca26"
             ],
             [
              1,
              "#f0f921"
             ]
            ],
            "type": "contour"
           }
          ],
          "contourcarpet": [
           {
            "colorbar": {
             "outlinewidth": 0,
             "ticks": ""
            },
            "type": "contourcarpet"
           }
          ],
          "heatmap": [
           {
            "colorbar": {
             "outlinewidth": 0,
             "ticks": ""
            },
            "colorscale": [
             [
              0,
              "#0d0887"
             ],
             [
              0.1111111111111111,
              "#46039f"
             ],
             [
              0.2222222222222222,
              "#7201a8"
             ],
             [
              0.3333333333333333,
              "#9c179e"
             ],
             [
              0.4444444444444444,
              "#bd3786"
             ],
             [
              0.5555555555555556,
              "#d8576b"
             ],
             [
              0.6666666666666666,
              "#ed7953"
             ],
             [
              0.7777777777777778,
              "#fb9f3a"
             ],
             [
              0.8888888888888888,
              "#fdca26"
             ],
             [
              1,
              "#f0f921"
             ]
            ],
            "type": "heatmap"
           }
          ],
          "heatmapgl": [
           {
            "colorbar": {
             "outlinewidth": 0,
             "ticks": ""
            },
            "colorscale": [
             [
              0,
              "#0d0887"
             ],
             [
              0.1111111111111111,
              "#46039f"
             ],
             [
              0.2222222222222222,
              "#7201a8"
             ],
             [
              0.3333333333333333,
              "#9c179e"
             ],
             [
              0.4444444444444444,
              "#bd3786"
             ],
             [
              0.5555555555555556,
              "#d8576b"
             ],
             [
              0.6666666666666666,
              "#ed7953"
             ],
             [
              0.7777777777777778,
              "#fb9f3a"
             ],
             [
              0.8888888888888888,
              "#fdca26"
             ],
             [
              1,
              "#f0f921"
             ]
            ],
            "type": "heatmapgl"
           }
          ],
          "histogram": [
           {
            "marker": {
             "colorbar": {
              "outlinewidth": 0,
              "ticks": ""
             }
            },
            "type": "histogram"
           }
          ],
          "histogram2d": [
           {
            "colorbar": {
             "outlinewidth": 0,
             "ticks": ""
            },
            "colorscale": [
             [
              0,
              "#0d0887"
             ],
             [
              0.1111111111111111,
              "#46039f"
             ],
             [
              0.2222222222222222,
              "#7201a8"
             ],
             [
              0.3333333333333333,
              "#9c179e"
             ],
             [
              0.4444444444444444,
              "#bd3786"
             ],
             [
              0.5555555555555556,
              "#d8576b"
             ],
             [
              0.6666666666666666,
              "#ed7953"
             ],
             [
              0.7777777777777778,
              "#fb9f3a"
             ],
             [
              0.8888888888888888,
              "#fdca26"
             ],
             [
              1,
              "#f0f921"
             ]
            ],
            "type": "histogram2d"
           }
          ],
          "histogram2dcontour": [
           {
            "colorbar": {
             "outlinewidth": 0,
             "ticks": ""
            },
            "colorscale": [
             [
              0,
              "#0d0887"
             ],
             [
              0.1111111111111111,
              "#46039f"
             ],
             [
              0.2222222222222222,
              "#7201a8"
             ],
             [
              0.3333333333333333,
              "#9c179e"
             ],
             [
              0.4444444444444444,
              "#bd3786"
             ],
             [
              0.5555555555555556,
              "#d8576b"
             ],
             [
              0.6666666666666666,
              "#ed7953"
             ],
             [
              0.7777777777777778,
              "#fb9f3a"
             ],
             [
              0.8888888888888888,
              "#fdca26"
             ],
             [
              1,
              "#f0f921"
             ]
            ],
            "type": "histogram2dcontour"
           }
          ],
          "mesh3d": [
           {
            "colorbar": {
             "outlinewidth": 0,
             "ticks": ""
            },
            "type": "mesh3d"
           }
          ],
          "parcoords": [
           {
            "line": {
             "colorbar": {
              "outlinewidth": 0,
              "ticks": ""
             }
            },
            "type": "parcoords"
           }
          ],
          "pie": [
           {
            "automargin": true,
            "type": "pie"
           }
          ],
          "scatter": [
           {
            "marker": {
             "colorbar": {
              "outlinewidth": 0,
              "ticks": ""
             }
            },
            "type": "scatter"
           }
          ],
          "scatter3d": [
           {
            "line": {
             "colorbar": {
              "outlinewidth": 0,
              "ticks": ""
             }
            },
            "marker": {
             "colorbar": {
              "outlinewidth": 0,
              "ticks": ""
             }
            },
            "type": "scatter3d"
           }
          ],
          "scattercarpet": [
           {
            "marker": {
             "colorbar": {
              "outlinewidth": 0,
              "ticks": ""
             }
            },
            "type": "scattercarpet"
           }
          ],
          "scattergeo": [
           {
            "marker": {
             "colorbar": {
              "outlinewidth": 0,
              "ticks": ""
             }
            },
            "type": "scattergeo"
           }
          ],
          "scattergl": [
           {
            "marker": {
             "colorbar": {
              "outlinewidth": 0,
              "ticks": ""
             }
            },
            "type": "scattergl"
           }
          ],
          "scattermapbox": [
           {
            "marker": {
             "colorbar": {
              "outlinewidth": 0,
              "ticks": ""
             }
            },
            "type": "scattermapbox"
           }
          ],
          "scatterpolar": [
           {
            "marker": {
             "colorbar": {
              "outlinewidth": 0,
              "ticks": ""
             }
            },
            "type": "scatterpolar"
           }
          ],
          "scatterpolargl": [
           {
            "marker": {
             "colorbar": {
              "outlinewidth": 0,
              "ticks": ""
             }
            },
            "type": "scatterpolargl"
           }
          ],
          "scatterternary": [
           {
            "marker": {
             "colorbar": {
              "outlinewidth": 0,
              "ticks": ""
             }
            },
            "type": "scatterternary"
           }
          ],
          "surface": [
           {
            "colorbar": {
             "outlinewidth": 0,
             "ticks": ""
            },
            "colorscale": [
             [
              0,
              "#0d0887"
             ],
             [
              0.1111111111111111,
              "#46039f"
             ],
             [
              0.2222222222222222,
              "#7201a8"
             ],
             [
              0.3333333333333333,
              "#9c179e"
             ],
             [
              0.4444444444444444,
              "#bd3786"
             ],
             [
              0.5555555555555556,
              "#d8576b"
             ],
             [
              0.6666666666666666,
              "#ed7953"
             ],
             [
              0.7777777777777778,
              "#fb9f3a"
             ],
             [
              0.8888888888888888,
              "#fdca26"
             ],
             [
              1,
              "#f0f921"
             ]
            ],
            "type": "surface"
           }
          ],
          "table": [
           {
            "cells": {
             "fill": {
              "color": "#EBF0F8"
             },
             "line": {
              "color": "white"
             }
            },
            "header": {
             "fill": {
              "color": "#C8D4E3"
             },
             "line": {
              "color": "white"
             }
            },
            "type": "table"
           }
          ]
         },
         "layout": {
          "annotationdefaults": {
           "arrowcolor": "#2a3f5f",
           "arrowhead": 0,
           "arrowwidth": 1
          },
          "autotypenumbers": "strict",
          "coloraxis": {
           "colorbar": {
            "outlinewidth": 0,
            "ticks": ""
           }
          },
          "colorscale": {
           "diverging": [
            [
             0,
             "#8e0152"
            ],
            [
             0.1,
             "#c51b7d"
            ],
            [
             0.2,
             "#de77ae"
            ],
            [
             0.3,
             "#f1b6da"
            ],
            [
             0.4,
             "#fde0ef"
            ],
            [
             0.5,
             "#f7f7f7"
            ],
            [
             0.6,
             "#e6f5d0"
            ],
            [
             0.7,
             "#b8e186"
            ],
            [
             0.8,
             "#7fbc41"
            ],
            [
             0.9,
             "#4d9221"
            ],
            [
             1,
             "#276419"
            ]
           ],
           "sequential": [
            [
             0,
             "#0d0887"
            ],
            [
             0.1111111111111111,
             "#46039f"
            ],
            [
             0.2222222222222222,
             "#7201a8"
            ],
            [
             0.3333333333333333,
             "#9c179e"
            ],
            [
             0.4444444444444444,
             "#bd3786"
            ],
            [
             0.5555555555555556,
             "#d8576b"
            ],
            [
             0.6666666666666666,
             "#ed7953"
            ],
            [
             0.7777777777777778,
             "#fb9f3a"
            ],
            [
             0.8888888888888888,
             "#fdca26"
            ],
            [
             1,
             "#f0f921"
            ]
           ],
           "sequentialminus": [
            [
             0,
             "#0d0887"
            ],
            [
             0.1111111111111111,
             "#46039f"
            ],
            [
             0.2222222222222222,
             "#7201a8"
            ],
            [
             0.3333333333333333,
             "#9c179e"
            ],
            [
             0.4444444444444444,
             "#bd3786"
            ],
            [
             0.5555555555555556,
             "#d8576b"
            ],
            [
             0.6666666666666666,
             "#ed7953"
            ],
            [
             0.7777777777777778,
             "#fb9f3a"
            ],
            [
             0.8888888888888888,
             "#fdca26"
            ],
            [
             1,
             "#f0f921"
            ]
           ]
          },
          "colorway": [
           "#636efa",
           "#EF553B",
           "#00cc96",
           "#ab63fa",
           "#FFA15A",
           "#19d3f3",
           "#FF6692",
           "#B6E880",
           "#FF97FF",
           "#FECB52"
          ],
          "font": {
           "color": "#2a3f5f"
          },
          "geo": {
           "bgcolor": "white",
           "lakecolor": "white",
           "landcolor": "#E5ECF6",
           "showlakes": true,
           "showland": true,
           "subunitcolor": "white"
          },
          "hoverlabel": {
           "align": "left"
          },
          "hovermode": "closest",
          "mapbox": {
           "style": "light"
          },
          "paper_bgcolor": "white",
          "plot_bgcolor": "#E5ECF6",
          "polar": {
           "angularaxis": {
            "gridcolor": "white",
            "linecolor": "white",
            "ticks": ""
           },
           "bgcolor": "#E5ECF6",
           "radialaxis": {
            "gridcolor": "white",
            "linecolor": "white",
            "ticks": ""
           }
          },
          "scene": {
           "xaxis": {
            "backgroundcolor": "#E5ECF6",
            "gridcolor": "white",
            "gridwidth": 2,
            "linecolor": "white",
            "showbackground": true,
            "ticks": "",
            "zerolinecolor": "white"
           },
           "yaxis": {
            "backgroundcolor": "#E5ECF6",
            "gridcolor": "white",
            "gridwidth": 2,
            "linecolor": "white",
            "showbackground": true,
            "ticks": "",
            "zerolinecolor": "white"
           },
           "zaxis": {
            "backgroundcolor": "#E5ECF6",
            "gridcolor": "white",
            "gridwidth": 2,
            "linecolor": "white",
            "showbackground": true,
            "ticks": "",
            "zerolinecolor": "white"
           }
          },
          "shapedefaults": {
           "line": {
            "color": "#2a3f5f"
           }
          },
          "ternary": {
           "aaxis": {
            "gridcolor": "white",
            "linecolor": "white",
            "ticks": ""
           },
           "baxis": {
            "gridcolor": "white",
            "linecolor": "white",
            "ticks": ""
           },
           "bgcolor": "#E5ECF6",
           "caxis": {
            "gridcolor": "white",
            "linecolor": "white",
            "ticks": ""
           }
          },
          "title": {
           "x": 0.05
          },
          "xaxis": {
           "automargin": true,
           "gridcolor": "white",
           "linecolor": "white",
           "ticks": "",
           "title": {
            "standoff": 15
           },
           "zerolinecolor": "white",
           "zerolinewidth": 2
          },
          "yaxis": {
           "automargin": true,
           "gridcolor": "white",
           "linecolor": "white",
           "ticks": "",
           "title": {
            "standoff": 15
           },
           "zerolinecolor": "white",
           "zerolinewidth": 2
          }
         }
        },
        "xaxis": {
         "anchor": "y",
         "domain": [
          0,
          1
         ],
         "title": {
          "text": "Agreement Level"
         }
        },
        "yaxis": {
         "anchor": "x",
         "domain": [
          0,
          1
         ]
        }
       }
      },
      "text/html": "<div>                            <div id=\"1a3a6574-67b9-4a94-b15f-c0790dfa8b43\" class=\"plotly-graph-div\" style=\"height:525px; width:100%;\"></div>            <script type=\"text/javascript\">                require([\"plotly\"], function(Plotly) {                    window.PLOTLYENV=window.PLOTLYENV || {};                                    if (document.getElementById(\"1a3a6574-67b9-4a94-b15f-c0790dfa8b43\")) {                    Plotly.newPlot(                        \"1a3a6574-67b9-4a94-b15f-c0790dfa8b43\",                        [{\"alignmentgroup\": \"True\", \"hovertemplate\": \"Agreement Level=%{x}<extra></extra>\", \"legendgroup\": \"\", \"marker\": {\"color\": \"#636efa\"}, \"name\": \"\", \"notched\": false, \"offsetgroup\": \"\", \"orientation\": \"h\", \"showlegend\": false, \"type\": \"box\", \"x\": [3.0, 2.0, 3.0, 4.0, 3.0, 1.0, 4.0, 4.0, 1.0, 3.0, 4.0, 1.0, 3.0, 4.0, 5.0, 3.0, 3.0, 2.0, 4.0, 3.0, 2.0, 1.0, 2.0, 4.0, 5.0, 3.0, 4.0, 3.0, 4.0, 3.0, 4.0, 2.0, 5.0, 1.0, 3.0, 3.0, 3.0, 3.0, 1.0, 3.0, 5.0, 1.0, 2.0, 5.0, 5.0, 5.0, 4.0, 4.0, 3.0, 3.0, 4.0, 2.0, 5.0, 1.0, 4.0, 4.0, 5.0, 5.0, 2.0, 2.0, 1.0, 4.0, 3.0, 4.0, 5.0, 3.0, 2.0, 2.0, 4.0, 1.0, 3.0, 2.0, 2.0, 4.0, 5.0, 4.0, 2.0, 5.0, 2.0, 5.0, 3.0, 2.0, 3.0, 5.0, 5.0, 2.0, 1.0, 5.0, 2.0, 3.0, 4.0, 3.0, 3.0, 2.0, 3.0, 4.0, 1.0, 1.0, 1.0, 2.0, 4.0, 2.0, 3.0, 5.0, 4.0, 2.0, 2.0, 3.0, 3.0, 2.0, 2.0, 2.0, 3.0, 2.0, 3.0, 5.0, 2.0, 2.0, 1.0, 4.0, 1.0, 1.0, 2.0, 2.0, 4.0, 4.0, 1.0, 2.0, 3.0, 3.0, 5.0, 3.0, 2.0, 2.0, 5.0, 1.0, 2.0, 1.0, 1.0, 1.0, 1.0, 1.0, 4.0, 5.0, 1.0, 2.0, 3.0, 1.0, 3.0, 1.0, 3.0, 3.0, 4.0, 5.0, 3.0, 5.0, 4.0, 2.0, 5.0, 3.0, 2.0, 4.0, 4.0, 3.0, 5.0, 4.0, 2.0, 1.0, 5.0, 2.0, 2.0, 5.0, 1.0, 2.0, 2.0, 1.0, 2.0, 3.0, 2.0, 3.0, 4.0, 2.0, 4.0, 4.0, 2.0, 2.0, null, 1.0, 3.0, 1.0, 3.0, 1.0, 5.0, 3.0, 4.0, 4.0, 4.0, 4.0, 2.0, 3.0, 2.0, 4.0, 4.0, 4.0, 2.0, 1.0, 3.0, 3.0, 4.0, 2.0, 5.0, 4.0, 4.0, 4.0, 4.0, 5.0, 5.0, 2.0, 4.0, 5.0, 4.0, 1.0, 4.0, 5.0, 2.0, 3.0, 3.0, 2.0, 1.0, 1.0, 4.0, 5.0, 1.0, 3.0, 1.0, 4.0, 5.0, 4.0, 5.0, 4.0, 2.0, 4.0, 4.0, 1.0, 4.0, 4.0, 3.0, 4.0, 5.0, 3.0, 4.0, 3.0, 2.0, 5.0, 3.0, 1.0, 5.0, 3.0, 1.0, 3.0, 3.0, 5.0, 3.0, 5.0, 1.0, 3.0, 3.0, 3.0, 4.0, 2.0, 4.0, 4.0, 1.0, 3.0, 3.0, 4.0, 5.0, 4.0, 1.0, 5.0, 4.0, 2.0, 4.0, 3.0, 3.0, 3.0, 4.0, 4.0, 2.0, 2.0, 4.0, 2.0, 5.0, 1.0, 3.0, 4.0, 2.0, 2.0, 4.0, 3.0, 3.0, 3.0, 4.0, 2.0, 1.0, 5.0, 3.0, 1.0, 4.0, 4.0, 3.0, 5.0, 1.0, 3.0, 1.0, 5.0, 3.0, 2.0, 3.0, 2.0, 2.0, 3.0, 3.0, 4.0, 3.0, 4.0, 3.0, 3.0, 5.0, 5.0, 3.0, 3.0, 2.0, 4.0, 2.0, 2.0, 1.0, 3.0, 5.0, 2.0, 5.0, 5.0, 4.0, 3.0, 3.0, 2.0, 3.0, 5.0, 5.0, 5.0, 3.0, 4.0, 4.0, 3.0, 5.0, 2.0, 3.0, 5.0, 2.0, 4.0, 5.0, 1.0, 1.0, 1.0, 4.0, 4.0, 2.0, 3.0, 3.0, 3.0, 4.0, 3.0, 2.0, 1.0, 5.0, 1.0, 1.0, 1.0, 3.0, 2.0, 4.0, 4.0, 5.0, 4.0, 4.0, 3.0, 3.0, 5.0, 4.0, 4.0, 2.0, 3.0, 3.0, 2.0, 4.0, 3.0, 1.0, 5.0, 3.0, 4.0, 3.0, 3.0, 1.0, 1.0, 4.0, 3.0, 3.0, 4.0, 3.0, 4.0, 3.0, 4.0, 5.0, 2.0, 3.0, 5.0, 4.0, 2.0, 2.0, 1.0, 4.0, 1.0, 4.0, 2.0, 3.0, 3.0, 1.0, 2.0, 2.0, 5.0, 2.0, 3.0, 2.0, 3.0, 5.0, 3.0, 4.0, 5.0, 2.0, 5.0, 4.0, 3.0, 5.0, 3.0, 2.0, 4.0, 4.0, 2.0, 4.0, 2.0, 5.0, 4.0, 5.0, 3.0, 4.0, 3.0, 3.0, 1.0, 2.0, 3.0, 5.0, 4.0, 2.0, 2.0, 5.0, 4.0, 3.0, 2.0, 4.0, 3.0, 3.0, 2.0, 2.0, 1.0, 3.0, 2.0, 4.0, 3.0, 3.0, 3.0, 4.0, 2.0, 3.0, 5.0, 3.0, 2.0, 2.0, 5.0, 2.0, 5.0, 3.0, 3.0, 3.0, 3.0, 3.0, 4.0, 2.0, 3.0, 3.0, 2.0, 3.0, 4.0, 4.0, 1.0, 5.0, 3.0, 3.0, 4.0, 3.0, 4.0, 4.0, 3.0, 5.0, 3.0, 2.0, 1.0, 5.0, 5.0, 4.0, 3.0, 3.0, 5.0, 4.0, 4.0, 2.0, 3.0, 3.0, 5.0, 1.0, 2.0, 2.0, 1.0, 5.0, 4.0, 3.0, 5.0, 5.0, 1.0, 1.0, 3.0, 3.0, 5.0, 4.0, 2.0, 4.0, 1.0, 2.0, 1.0, 3.0, 4.0, 4.0, 3.0, 4.0, 4.0, 3.0, 5.0, 4.0, 3.0, 2.0, 3.0, 1.0, 1.0, 3.0, 5.0, 3.0, 3.0, 2.0, null, 3.0, 2.0, 5.0, 4.0, 4.0, 5.0, 1.0, 2.0, 3.0, 3.0, 2.0, 2.0, 2.0, 3.0, 3.0, 2.0, 2.0, 4.0, 1.0, 4.0, 4.0, 4.0, 3.0, 3.0, 5.0, 2.0, 4.0, 1.0, 5.0, 3.0, 2.0, 3.0, 2.0, 3.0, 1.0, 2.0, 4.0, 4.0, 2.0, 4.0, 2.0, 2.0, 2.0, 5.0, 5.0, 4.0, 4.0, 2.0, 2.0, 3.0, 5.0, 2.0, 3.0, 3.0, 3.0, 2.0, 5.0, 3.0, 3.0, 1.0, 2.0, 5.0, 4.0, 3.0, 2.0, 2.0, 4.0, 1.0, 3.0, 4.0, 4.0, 2.0, 4.0, 2.0, 4.0, 2.0, 2.0, 4.0, 2.0, 3.0, 4.0, 4.0, 3.0, 3.0, 1.0, 2.0, 4.0, 4.0, 5.0, 4.0, 1.0, 3.0, 2.0, 4.0, 3.0, 3.0, 3.0, 2.0, 3.0, 1.0, 3.0, 3.0, 3.0, 4.0, 2.0, 3.0, 4.0, 3.0, 4.0, 4.0, 1.0, 1.0, 3.0, 2.0, 4.0, 2.0, 3.0, 4.0, 3.0, 3.0, 3.0, 4.0, 3.0, 5.0, 4.0, 3.0, 2.0, 3.0, 2.0, 4.0, 5.0, 4.0, 3.0, 2.0, 3.0, 2.0, 4.0, 3.0, 3.0, 2.0, 2.0, 4.0, 4.0, 2.0, 4.0, 3.0, 3.0, 1.0, 2.0, 3.0, 3.0, 1.0, 3.0, 3.0, 4.0, 1.0, 2.0, 3.0, 4.0, 5.0, 5.0, 3.0, 3.0, 4.0, 2.0, 3.0, 1.0, 2.0, 4.0, 3.0, 5.0, 3.0, 4.0, 3.0, 4.0, 5.0, 2.0, 2.0, 4.0, 4.0, 3.0, 3.0, 3.0, 4.0, 5.0, 2.0, 4.0, 3.0, 4.0, 4.0, 3.0, 2.0, 4.0, 3.0, 5.0, 3.0, 3.0, 2.0, 5.0, 3.0, 4.0, 4.0, 3.0, 3.0, 2.0, 4.0, 3.0, 5.0, 4.0, 3.0, 4.0, 5.0, 3.0, 2.0, 4.0, 5.0, 3.0, 3.0, 3.0, 5.0, 3.0, 5.0, 1.0, 5.0, 4.0, 2.0, 1.0, 5.0, 5.0, 4.0, 3.0, 3.0, 4.0, 3.0, 3.0, 3.0, 1.0, 5.0, 3.0, 4.0, 4.0, 5.0, 3.0, 2.0, 5.0, 4.0, 4.0, 1.0, 4.0, 5.0, 3.0, 2.0, 3.0, 3.0, 3.0, 5.0, 3.0, 4.0, 2.0, 4.0, 2.0, 2.0, 3.0, 4.0, 5.0, 5.0, 2.0, 3.0, 5.0, 1.0, 4.0, 4.0, 3.0, 5.0, 1.0, 5.0, 4.0, 4.0, 4.0, 5.0, 5.0, 2.0, 3.0, 5.0, 4.0, 3.0, 4.0, 4.0, 5.0, 3.0, 2.0, 5.0, 3.0, 3.0, 4.0, 4.0, 2.0, 3.0, 2.0, 3.0, 2.0, 5.0, 3.0, 5.0, 3.0, 4.0, 4.0, 3.0, 4.0, 3.0, 5.0, 4.0, 4.0, 5.0, 4.0, 2.0, 5.0, 4.0, 2.0, 3.0, 4.0, 2.0, 5.0, 3.0, 2.0, 3.0, 4.0, 3.0, 2.0, 4.0, 3.0, 4.0, 4.0, 1.0, 3.0, 1.0, 3.0, 4.0, 2.0, 4.0, 2.0, 4.0, 4.0, 3.0, 4.0, 3.0, 2.0, 3.0, 1.0, 3.0, 3.0, 4.0, 3.0, 4.0, 5.0, 3.0, 4.0, 4.0, 3.0, 4.0, 2.0, 3.0, 3.0, 4.0, 4.0, 4.0, 2.0, 3.0, 1.0, 2.0, 5.0, 2.0, 4.0, 4.0, 2.0, 3.0, 4.0, 1.0, 4.0, 3.0, 3.0, 2.0, 3.0, 4.0, 1.0, 3.0, 2.0, 3.0, 3.0, 3.0, 4.0, 3.0, 2.0, 3.0, 3.0, null, 2.0, 3.0, 5.0, 2.0, 2.0, 1.0, 5.0, 3.0, 2.0, 2.0, 1.0, 3.0, 4.0, 3.0, 2.0, 4.0, 2.0, 2.0, 4.0, 4.0, 1.0, 3.0, 1.0, 2.0, 5.0, 3.0, 3.0, 2.0, 1.0, 3.0, 4.0, 2.0, 3.0, 2.0, 3.0, 2.0], \"x0\": \" \", \"xaxis\": \"x\", \"y0\": \" \", \"yaxis\": \"y\"}],                        {\"boxmode\": \"group\", \"legend\": {\"tracegroupgap\": 0}, \"margin\": {\"t\": 60}, \"template\": {\"data\": {\"bar\": [{\"error_x\": {\"color\": \"#2a3f5f\"}, \"error_y\": {\"color\": \"#2a3f5f\"}, \"marker\": {\"line\": {\"color\": \"#E5ECF6\", \"width\": 0.5}}, \"type\": \"bar\"}], \"barpolar\": [{\"marker\": {\"line\": {\"color\": \"#E5ECF6\", \"width\": 0.5}}, \"type\": \"barpolar\"}], \"carpet\": [{\"aaxis\": {\"endlinecolor\": \"#2a3f5f\", \"gridcolor\": \"white\", \"linecolor\": \"white\", \"minorgridcolor\": \"white\", \"startlinecolor\": \"#2a3f5f\"}, \"baxis\": {\"endlinecolor\": \"#2a3f5f\", \"gridcolor\": \"white\", \"linecolor\": \"white\", \"minorgridcolor\": \"white\", \"startlinecolor\": \"#2a3f5f\"}, \"type\": \"carpet\"}], \"choropleth\": [{\"colorbar\": {\"outlinewidth\": 0, \"ticks\": \"\"}, \"type\": \"choropleth\"}], \"contour\": [{\"colorbar\": {\"outlinewidth\": 0, \"ticks\": \"\"}, \"colorscale\": [[0.0, \"#0d0887\"], [0.1111111111111111, \"#46039f\"], [0.2222222222222222, \"#7201a8\"], [0.3333333333333333, \"#9c179e\"], [0.4444444444444444, \"#bd3786\"], [0.5555555555555556, \"#d8576b\"], [0.6666666666666666, \"#ed7953\"], [0.7777777777777778, \"#fb9f3a\"], [0.8888888888888888, \"#fdca26\"], [1.0, \"#f0f921\"]], \"type\": \"contour\"}], \"contourcarpet\": [{\"colorbar\": {\"outlinewidth\": 0, \"ticks\": \"\"}, \"type\": \"contourcarpet\"}], \"heatmap\": [{\"colorbar\": {\"outlinewidth\": 0, \"ticks\": \"\"}, \"colorscale\": [[0.0, \"#0d0887\"], [0.1111111111111111, \"#46039f\"], [0.2222222222222222, \"#7201a8\"], [0.3333333333333333, \"#9c179e\"], [0.4444444444444444, \"#bd3786\"], [0.5555555555555556, \"#d8576b\"], [0.6666666666666666, \"#ed7953\"], [0.7777777777777778, \"#fb9f3a\"], [0.8888888888888888, \"#fdca26\"], [1.0, \"#f0f921\"]], \"type\": \"heatmap\"}], \"heatmapgl\": [{\"colorbar\": {\"outlinewidth\": 0, \"ticks\": \"\"}, \"colorscale\": [[0.0, \"#0d0887\"], [0.1111111111111111, \"#46039f\"], [0.2222222222222222, \"#7201a8\"], [0.3333333333333333, \"#9c179e\"], [0.4444444444444444, \"#bd3786\"], [0.5555555555555556, \"#d8576b\"], [0.6666666666666666, \"#ed7953\"], [0.7777777777777778, \"#fb9f3a\"], [0.8888888888888888, \"#fdca26\"], [1.0, \"#f0f921\"]], \"type\": \"heatmapgl\"}], \"histogram\": [{\"marker\": {\"colorbar\": {\"outlinewidth\": 0, \"ticks\": \"\"}}, \"type\": \"histogram\"}], \"histogram2d\": [{\"colorbar\": {\"outlinewidth\": 0, \"ticks\": \"\"}, \"colorscale\": [[0.0, \"#0d0887\"], [0.1111111111111111, \"#46039f\"], [0.2222222222222222, \"#7201a8\"], [0.3333333333333333, \"#9c179e\"], [0.4444444444444444, \"#bd3786\"], [0.5555555555555556, \"#d8576b\"], [0.6666666666666666, \"#ed7953\"], [0.7777777777777778, \"#fb9f3a\"], [0.8888888888888888, \"#fdca26\"], [1.0, \"#f0f921\"]], \"type\": \"histogram2d\"}], \"histogram2dcontour\": [{\"colorbar\": {\"outlinewidth\": 0, \"ticks\": \"\"}, \"colorscale\": [[0.0, \"#0d0887\"], [0.1111111111111111, \"#46039f\"], [0.2222222222222222, \"#7201a8\"], [0.3333333333333333, \"#9c179e\"], [0.4444444444444444, \"#bd3786\"], [0.5555555555555556, \"#d8576b\"], [0.6666666666666666, \"#ed7953\"], [0.7777777777777778, \"#fb9f3a\"], [0.8888888888888888, \"#fdca26\"], [1.0, \"#f0f921\"]], \"type\": \"histogram2dcontour\"}], \"mesh3d\": [{\"colorbar\": {\"outlinewidth\": 0, \"ticks\": \"\"}, \"type\": \"mesh3d\"}], \"parcoords\": [{\"line\": {\"colorbar\": {\"outlinewidth\": 0, \"ticks\": \"\"}}, \"type\": \"parcoords\"}], \"pie\": [{\"automargin\": true, \"type\": \"pie\"}], \"scatter\": [{\"marker\": {\"colorbar\": {\"outlinewidth\": 0, \"ticks\": \"\"}}, \"type\": \"scatter\"}], \"scatter3d\": [{\"line\": {\"colorbar\": {\"outlinewidth\": 0, \"ticks\": \"\"}}, \"marker\": {\"colorbar\": {\"outlinewidth\": 0, \"ticks\": \"\"}}, \"type\": \"scatter3d\"}], \"scattercarpet\": [{\"marker\": {\"colorbar\": {\"outlinewidth\": 0, \"ticks\": \"\"}}, \"type\": \"scattercarpet\"}], \"scattergeo\": [{\"marker\": {\"colorbar\": {\"outlinewidth\": 0, \"ticks\": \"\"}}, \"type\": \"scattergeo\"}], \"scattergl\": [{\"marker\": {\"colorbar\": {\"outlinewidth\": 0, \"ticks\": \"\"}}, \"type\": \"scattergl\"}], \"scattermapbox\": [{\"marker\": {\"colorbar\": {\"outlinewidth\": 0, \"ticks\": \"\"}}, \"type\": \"scattermapbox\"}], \"scatterpolar\": [{\"marker\": {\"colorbar\": {\"outlinewidth\": 0, \"ticks\": \"\"}}, \"type\": \"scatterpolar\"}], \"scatterpolargl\": [{\"marker\": {\"colorbar\": {\"outlinewidth\": 0, \"ticks\": \"\"}}, \"type\": \"scatterpolargl\"}], \"scatterternary\": [{\"marker\": {\"colorbar\": {\"outlinewidth\": 0, \"ticks\": \"\"}}, \"type\": \"scatterternary\"}], \"surface\": [{\"colorbar\": {\"outlinewidth\": 0, \"ticks\": \"\"}, \"colorscale\": [[0.0, \"#0d0887\"], [0.1111111111111111, \"#46039f\"], [0.2222222222222222, \"#7201a8\"], [0.3333333333333333, \"#9c179e\"], [0.4444444444444444, \"#bd3786\"], [0.5555555555555556, \"#d8576b\"], [0.6666666666666666, \"#ed7953\"], [0.7777777777777778, \"#fb9f3a\"], [0.8888888888888888, \"#fdca26\"], [1.0, \"#f0f921\"]], \"type\": \"surface\"}], \"table\": [{\"cells\": {\"fill\": {\"color\": \"#EBF0F8\"}, \"line\": {\"color\": \"white\"}}, \"header\": {\"fill\": {\"color\": \"#C8D4E3\"}, \"line\": {\"color\": \"white\"}}, \"type\": \"table\"}]}, \"layout\": {\"annotationdefaults\": {\"arrowcolor\": \"#2a3f5f\", \"arrowhead\": 0, \"arrowwidth\": 1}, \"autotypenumbers\": \"strict\", \"coloraxis\": {\"colorbar\": {\"outlinewidth\": 0, \"ticks\": \"\"}}, \"colorscale\": {\"diverging\": [[0, \"#8e0152\"], [0.1, \"#c51b7d\"], [0.2, \"#de77ae\"], [0.3, \"#f1b6da\"], [0.4, \"#fde0ef\"], [0.5, \"#f7f7f7\"], [0.6, \"#e6f5d0\"], [0.7, \"#b8e186\"], [0.8, \"#7fbc41\"], [0.9, \"#4d9221\"], [1, \"#276419\"]], \"sequential\": [[0.0, \"#0d0887\"], [0.1111111111111111, \"#46039f\"], [0.2222222222222222, \"#7201a8\"], [0.3333333333333333, \"#9c179e\"], [0.4444444444444444, \"#bd3786\"], [0.5555555555555556, \"#d8576b\"], [0.6666666666666666, \"#ed7953\"], [0.7777777777777778, \"#fb9f3a\"], [0.8888888888888888, \"#fdca26\"], [1.0, \"#f0f921\"]], \"sequentialminus\": [[0.0, \"#0d0887\"], [0.1111111111111111, \"#46039f\"], [0.2222222222222222, \"#7201a8\"], [0.3333333333333333, \"#9c179e\"], [0.4444444444444444, \"#bd3786\"], [0.5555555555555556, \"#d8576b\"], [0.6666666666666666, \"#ed7953\"], [0.7777777777777778, \"#fb9f3a\"], [0.8888888888888888, \"#fdca26\"], [1.0, \"#f0f921\"]]}, \"colorway\": [\"#636efa\", \"#EF553B\", \"#00cc96\", \"#ab63fa\", \"#FFA15A\", \"#19d3f3\", \"#FF6692\", \"#B6E880\", \"#FF97FF\", \"#FECB52\"], \"font\": {\"color\": \"#2a3f5f\"}, \"geo\": {\"bgcolor\": \"white\", \"lakecolor\": \"white\", \"landcolor\": \"#E5ECF6\", \"showlakes\": true, \"showland\": true, \"subunitcolor\": \"white\"}, \"hoverlabel\": {\"align\": \"left\"}, \"hovermode\": \"closest\", \"mapbox\": {\"style\": \"light\"}, \"paper_bgcolor\": \"white\", \"plot_bgcolor\": \"#E5ECF6\", \"polar\": {\"angularaxis\": {\"gridcolor\": \"white\", \"linecolor\": \"white\", \"ticks\": \"\"}, \"bgcolor\": \"#E5ECF6\", \"radialaxis\": {\"gridcolor\": \"white\", \"linecolor\": \"white\", \"ticks\": \"\"}}, \"scene\": {\"xaxis\": {\"backgroundcolor\": \"#E5ECF6\", \"gridcolor\": \"white\", \"gridwidth\": 2, \"linecolor\": \"white\", \"showbackground\": true, \"ticks\": \"\", \"zerolinecolor\": \"white\"}, \"yaxis\": {\"backgroundcolor\": \"#E5ECF6\", \"gridcolor\": \"white\", \"gridwidth\": 2, \"linecolor\": \"white\", \"showbackground\": true, \"ticks\": \"\", \"zerolinecolor\": \"white\"}, \"zaxis\": {\"backgroundcolor\": \"#E5ECF6\", \"gridcolor\": \"white\", \"gridwidth\": 2, \"linecolor\": \"white\", \"showbackground\": true, \"ticks\": \"\", \"zerolinecolor\": \"white\"}}, \"shapedefaults\": {\"line\": {\"color\": \"#2a3f5f\"}}, \"ternary\": {\"aaxis\": {\"gridcolor\": \"white\", \"linecolor\": \"white\", \"ticks\": \"\"}, \"baxis\": {\"gridcolor\": \"white\", \"linecolor\": \"white\", \"ticks\": \"\"}, \"bgcolor\": \"#E5ECF6\", \"caxis\": {\"gridcolor\": \"white\", \"linecolor\": \"white\", \"ticks\": \"\"}}, \"title\": {\"x\": 0.05}, \"xaxis\": {\"automargin\": true, \"gridcolor\": \"white\", \"linecolor\": \"white\", \"ticks\": \"\", \"title\": {\"standoff\": 15}, \"zerolinecolor\": \"white\", \"zerolinewidth\": 2}, \"yaxis\": {\"automargin\": true, \"gridcolor\": \"white\", \"linecolor\": \"white\", \"ticks\": \"\", \"title\": {\"standoff\": 15}, \"zerolinecolor\": \"white\", \"zerolinewidth\": 2}}}, \"xaxis\": {\"anchor\": \"y\", \"domain\": [0.0, 1.0], \"title\": {\"text\": \"Agreement Level\"}}, \"yaxis\": {\"anchor\": \"x\", \"domain\": [0.0, 1.0]}},                        {\"responsive\": true}                    ).then(function(){\n                            \nvar gd = document.getElementById('1a3a6574-67b9-4a94-b15f-c0790dfa8b43');\nvar x = new MutationObserver(function (mutations, observer) {{\n        var display = window.getComputedStyle(gd).display;\n        if (!display || display === 'none') {{\n            console.log([gd, 'removed!']);\n            Plotly.purge(gd);\n            observer.disconnect();\n        }}\n}});\n\n// Listen for the removal of the full notebook cells\nvar notebookContainer = gd.closest('#notebook-container');\nif (notebookContainer) {{\n    x.observe(notebookContainer, {childList: true});\n}}\n\n// Listen for the clearing of the current output cell\nvar outputEl = gd.closest('.output');\nif (outputEl) {{\n    x.observe(outputEl, {childList: true});\n}}\n\n                        })                };                });            </script>        </div>"
     },
     "metadata": {}
    }
   ],
   "source": [
    "box_fig = px.box(looks, x='Agreement Level')\n",
    "box_fig.show()"
   ]
  },
  {
   "source": [
    "### Histogram"
   ],
   "cell_type": "markdown",
   "metadata": {}
  },
  {
   "cell_type": "code",
   "execution_count": 47,
   "metadata": {},
   "outputs": [
    {
     "output_type": "display_data",
     "data": {
      "application/vnd.plotly.v1+json": {
       "config": {
        "plotlyServerURL": "https://plot.ly"
       },
       "data": [
        {
         "alignmentgroup": "True",
         "bingroup": "x",
         "hovertemplate": "Agreement Level=%{x}<br>count=%{y}<extra></extra>",
         "legendgroup": "",
         "marker": {
          "color": "#636efa"
         },
         "name": "",
         "offsetgroup": "",
         "orientation": "v",
         "showlegend": false,
         "type": "histogram",
         "x": [
          3,
          2,
          3,
          4,
          3,
          1,
          4,
          4,
          1,
          3,
          4,
          1,
          3,
          4,
          5,
          3,
          3,
          2,
          4,
          3,
          2,
          1,
          2,
          4,
          5,
          3,
          4,
          3,
          4,
          3,
          4,
          2,
          5,
          1,
          3,
          3,
          3,
          3,
          1,
          3,
          5,
          1,
          2,
          5,
          5,
          5,
          4,
          4,
          3,
          3,
          4,
          2,
          5,
          1,
          4,
          4,
          5,
          5,
          2,
          2,
          1,
          4,
          3,
          4,
          5,
          3,
          2,
          2,
          4,
          1,
          3,
          2,
          2,
          4,
          5,
          4,
          2,
          5,
          2,
          5,
          3,
          2,
          3,
          5,
          5,
          2,
          1,
          5,
          2,
          3,
          4,
          3,
          3,
          2,
          3,
          4,
          1,
          1,
          1,
          2,
          4,
          2,
          3,
          5,
          4,
          2,
          2,
          3,
          3,
          2,
          2,
          2,
          3,
          2,
          3,
          5,
          2,
          2,
          1,
          4,
          1,
          1,
          2,
          2,
          4,
          4,
          1,
          2,
          3,
          3,
          5,
          3,
          2,
          2,
          5,
          1,
          2,
          1,
          1,
          1,
          1,
          1,
          4,
          5,
          1,
          2,
          3,
          1,
          3,
          1,
          3,
          3,
          4,
          5,
          3,
          5,
          4,
          2,
          5,
          3,
          2,
          4,
          4,
          3,
          5,
          4,
          2,
          1,
          5,
          2,
          2,
          5,
          1,
          2,
          2,
          1,
          2,
          3,
          2,
          3,
          4,
          2,
          4,
          4,
          2,
          2,
          null,
          1,
          3,
          1,
          3,
          1,
          5,
          3,
          4,
          4,
          4,
          4,
          2,
          3,
          2,
          4,
          4,
          4,
          2,
          1,
          3,
          3,
          4,
          2,
          5,
          4,
          4,
          4,
          4,
          5,
          5,
          2,
          4,
          5,
          4,
          1,
          4,
          5,
          2,
          3,
          3,
          2,
          1,
          1,
          4,
          5,
          1,
          3,
          1,
          4,
          5,
          4,
          5,
          4,
          2,
          4,
          4,
          1,
          4,
          4,
          3,
          4,
          5,
          3,
          4,
          3,
          2,
          5,
          3,
          1,
          5,
          3,
          1,
          3,
          3,
          5,
          3,
          5,
          1,
          3,
          3,
          3,
          4,
          2,
          4,
          4,
          1,
          3,
          3,
          4,
          5,
          4,
          1,
          5,
          4,
          2,
          4,
          3,
          3,
          3,
          4,
          4,
          2,
          2,
          4,
          2,
          5,
          1,
          3,
          4,
          2,
          2,
          4,
          3,
          3,
          3,
          4,
          2,
          1,
          5,
          3,
          1,
          4,
          4,
          3,
          5,
          1,
          3,
          1,
          5,
          3,
          2,
          3,
          2,
          2,
          3,
          3,
          4,
          3,
          4,
          3,
          3,
          5,
          5,
          3,
          3,
          2,
          4,
          2,
          2,
          1,
          3,
          5,
          2,
          5,
          5,
          4,
          3,
          3,
          2,
          3,
          5,
          5,
          5,
          3,
          4,
          4,
          3,
          5,
          2,
          3,
          5,
          2,
          4,
          5,
          1,
          1,
          1,
          4,
          4,
          2,
          3,
          3,
          3,
          4,
          3,
          2,
          1,
          5,
          1,
          1,
          1,
          3,
          2,
          4,
          4,
          5,
          4,
          4,
          3,
          3,
          5,
          4,
          4,
          2,
          3,
          3,
          2,
          4,
          3,
          1,
          5,
          3,
          4,
          3,
          3,
          1,
          1,
          4,
          3,
          3,
          4,
          3,
          4,
          3,
          4,
          5,
          2,
          3,
          5,
          4,
          2,
          2,
          1,
          4,
          1,
          4,
          2,
          3,
          3,
          1,
          2,
          2,
          5,
          2,
          3,
          2,
          3,
          5,
          3,
          4,
          5,
          2,
          5,
          4,
          3,
          5,
          3,
          2,
          4,
          4,
          2,
          4,
          2,
          5,
          4,
          5,
          3,
          4,
          3,
          3,
          1,
          2,
          3,
          5,
          4,
          2,
          2,
          5,
          4,
          3,
          2,
          4,
          3,
          3,
          2,
          2,
          1,
          3,
          2,
          4,
          3,
          3,
          3,
          4,
          2,
          3,
          5,
          3,
          2,
          2,
          5,
          2,
          5,
          3,
          3,
          3,
          3,
          3,
          4,
          2,
          3,
          3,
          2,
          3,
          4,
          4,
          1,
          5,
          3,
          3,
          4,
          3,
          4,
          4,
          3,
          5,
          3,
          2,
          1,
          5,
          5,
          4,
          3,
          3,
          5,
          4,
          4,
          2,
          3,
          3,
          5,
          1,
          2,
          2,
          1,
          5,
          4,
          3,
          5,
          5,
          1,
          1,
          3,
          3,
          5,
          4,
          2,
          4,
          1,
          2,
          1,
          3,
          4,
          4,
          3,
          4,
          4,
          3,
          5,
          4,
          3,
          2,
          3,
          1,
          1,
          3,
          5,
          3,
          3,
          2,
          null,
          3,
          2,
          5,
          4,
          4,
          5,
          1,
          2,
          3,
          3,
          2,
          2,
          2,
          3,
          3,
          2,
          2,
          4,
          1,
          4,
          4,
          4,
          3,
          3,
          5,
          2,
          4,
          1,
          5,
          3,
          2,
          3,
          2,
          3,
          1,
          2,
          4,
          4,
          2,
          4,
          2,
          2,
          2,
          5,
          5,
          4,
          4,
          2,
          2,
          3,
          5,
          2,
          3,
          3,
          3,
          2,
          5,
          3,
          3,
          1,
          2,
          5,
          4,
          3,
          2,
          2,
          4,
          1,
          3,
          4,
          4,
          2,
          4,
          2,
          4,
          2,
          2,
          4,
          2,
          3,
          4,
          4,
          3,
          3,
          1,
          2,
          4,
          4,
          5,
          4,
          1,
          3,
          2,
          4,
          3,
          3,
          3,
          2,
          3,
          1,
          3,
          3,
          3,
          4,
          2,
          3,
          4,
          3,
          4,
          4,
          1,
          1,
          3,
          2,
          4,
          2,
          3,
          4,
          3,
          3,
          3,
          4,
          3,
          5,
          4,
          3,
          2,
          3,
          2,
          4,
          5,
          4,
          3,
          2,
          3,
          2,
          4,
          3,
          3,
          2,
          2,
          4,
          4,
          2,
          4,
          3,
          3,
          1,
          2,
          3,
          3,
          1,
          3,
          3,
          4,
          1,
          2,
          3,
          4,
          5,
          5,
          3,
          3,
          4,
          2,
          3,
          1,
          2,
          4,
          3,
          5,
          3,
          4,
          3,
          4,
          5,
          2,
          2,
          4,
          4,
          3,
          3,
          3,
          4,
          5,
          2,
          4,
          3,
          4,
          4,
          3,
          2,
          4,
          3,
          5,
          3,
          3,
          2,
          5,
          3,
          4,
          4,
          3,
          3,
          2,
          4,
          3,
          5,
          4,
          3,
          4,
          5,
          3,
          2,
          4,
          5,
          3,
          3,
          3,
          5,
          3,
          5,
          1,
          5,
          4,
          2,
          1,
          5,
          5,
          4,
          3,
          3,
          4,
          3,
          3,
          3,
          1,
          5,
          3,
          4,
          4,
          5,
          3,
          2,
          5,
          4,
          4,
          1,
          4,
          5,
          3,
          2,
          3,
          3,
          3,
          5,
          3,
          4,
          2,
          4,
          2,
          2,
          3,
          4,
          5,
          5,
          2,
          3,
          5,
          1,
          4,
          4,
          3,
          5,
          1,
          5,
          4,
          4,
          4,
          5,
          5,
          2,
          3,
          5,
          4,
          3,
          4,
          4,
          5,
          3,
          2,
          5,
          3,
          3,
          4,
          4,
          2,
          3,
          2,
          3,
          2,
          5,
          3,
          5,
          3,
          4,
          4,
          3,
          4,
          3,
          5,
          4,
          4,
          5,
          4,
          2,
          5,
          4,
          2,
          3,
          4,
          2,
          5,
          3,
          2,
          3,
          4,
          3,
          2,
          4,
          3,
          4,
          4,
          1,
          3,
          1,
          3,
          4,
          2,
          4,
          2,
          4,
          4,
          3,
          4,
          3,
          2,
          3,
          1,
          3,
          3,
          4,
          3,
          4,
          5,
          3,
          4,
          4,
          3,
          4,
          2,
          3,
          3,
          4,
          4,
          4,
          2,
          3,
          1,
          2,
          5,
          2,
          4,
          4,
          2,
          3,
          4,
          1,
          4,
          3,
          3,
          2,
          3,
          4,
          1,
          3,
          2,
          3,
          3,
          3,
          4,
          3,
          2,
          3,
          3,
          null,
          2,
          3,
          5,
          2,
          2,
          1,
          5,
          3,
          2,
          2,
          1,
          3,
          4,
          3,
          2,
          4,
          2,
          2,
          4,
          4,
          1,
          3,
          1,
          2,
          5,
          3,
          3,
          2,
          1,
          3,
          4,
          2,
          3,
          2,
          3,
          2
         ],
         "xaxis": "x",
         "yaxis": "y"
        }
       ],
       "layout": {
        "barmode": "relative",
        "legend": {
         "tracegroupgap": 0
        },
        "template": {
         "data": {
          "bar": [
           {
            "error_x": {
             "color": "#2a3f5f"
            },
            "error_y": {
             "color": "#2a3f5f"
            },
            "marker": {
             "line": {
              "color": "#E5ECF6",
              "width": 0.5
             }
            },
            "type": "bar"
           }
          ],
          "barpolar": [
           {
            "marker": {
             "line": {
              "color": "#E5ECF6",
              "width": 0.5
             }
            },
            "type": "barpolar"
           }
          ],
          "carpet": [
           {
            "aaxis": {
             "endlinecolor": "#2a3f5f",
             "gridcolor": "white",
             "linecolor": "white",
             "minorgridcolor": "white",
             "startlinecolor": "#2a3f5f"
            },
            "baxis": {
             "endlinecolor": "#2a3f5f",
             "gridcolor": "white",
             "linecolor": "white",
             "minorgridcolor": "white",
             "startlinecolor": "#2a3f5f"
            },
            "type": "carpet"
           }
          ],
          "choropleth": [
           {
            "colorbar": {
             "outlinewidth": 0,
             "ticks": ""
            },
            "type": "choropleth"
           }
          ],
          "contour": [
           {
            "colorbar": {
             "outlinewidth": 0,
             "ticks": ""
            },
            "colorscale": [
             [
              0,
              "#0d0887"
             ],
             [
              0.1111111111111111,
              "#46039f"
             ],
             [
              0.2222222222222222,
              "#7201a8"
             ],
             [
              0.3333333333333333,
              "#9c179e"
             ],
             [
              0.4444444444444444,
              "#bd3786"
             ],
             [
              0.5555555555555556,
              "#d8576b"
             ],
             [
              0.6666666666666666,
              "#ed7953"
             ],
             [
              0.7777777777777778,
              "#fb9f3a"
             ],
             [
              0.8888888888888888,
              "#fdca26"
             ],
             [
              1,
              "#f0f921"
             ]
            ],
            "type": "contour"
           }
          ],
          "contourcarpet": [
           {
            "colorbar": {
             "outlinewidth": 0,
             "ticks": ""
            },
            "type": "contourcarpet"
           }
          ],
          "heatmap": [
           {
            "colorbar": {
             "outlinewidth": 0,
             "ticks": ""
            },
            "colorscale": [
             [
              0,
              "#0d0887"
             ],
             [
              0.1111111111111111,
              "#46039f"
             ],
             [
              0.2222222222222222,
              "#7201a8"
             ],
             [
              0.3333333333333333,
              "#9c179e"
             ],
             [
              0.4444444444444444,
              "#bd3786"
             ],
             [
              0.5555555555555556,
              "#d8576b"
             ],
             [
              0.6666666666666666,
              "#ed7953"
             ],
             [
              0.7777777777777778,
              "#fb9f3a"
             ],
             [
              0.8888888888888888,
              "#fdca26"
             ],
             [
              1,
              "#f0f921"
             ]
            ],
            "type": "heatmap"
           }
          ],
          "heatmapgl": [
           {
            "colorbar": {
             "outlinewidth": 0,
             "ticks": ""
            },
            "colorscale": [
             [
              0,
              "#0d0887"
             ],
             [
              0.1111111111111111,
              "#46039f"
             ],
             [
              0.2222222222222222,
              "#7201a8"
             ],
             [
              0.3333333333333333,
              "#9c179e"
             ],
             [
              0.4444444444444444,
              "#bd3786"
             ],
             [
              0.5555555555555556,
              "#d8576b"
             ],
             [
              0.6666666666666666,
              "#ed7953"
             ],
             [
              0.7777777777777778,
              "#fb9f3a"
             ],
             [
              0.8888888888888888,
              "#fdca26"
             ],
             [
              1,
              "#f0f921"
             ]
            ],
            "type": "heatmapgl"
           }
          ],
          "histogram": [
           {
            "marker": {
             "colorbar": {
              "outlinewidth": 0,
              "ticks": ""
             }
            },
            "type": "histogram"
           }
          ],
          "histogram2d": [
           {
            "colorbar": {
             "outlinewidth": 0,
             "ticks": ""
            },
            "colorscale": [
             [
              0,
              "#0d0887"
             ],
             [
              0.1111111111111111,
              "#46039f"
             ],
             [
              0.2222222222222222,
              "#7201a8"
             ],
             [
              0.3333333333333333,
              "#9c179e"
             ],
             [
              0.4444444444444444,
              "#bd3786"
             ],
             [
              0.5555555555555556,
              "#d8576b"
             ],
             [
              0.6666666666666666,
              "#ed7953"
             ],
             [
              0.7777777777777778,
              "#fb9f3a"
             ],
             [
              0.8888888888888888,
              "#fdca26"
             ],
             [
              1,
              "#f0f921"
             ]
            ],
            "type": "histogram2d"
           }
          ],
          "histogram2dcontour": [
           {
            "colorbar": {
             "outlinewidth": 0,
             "ticks": ""
            },
            "colorscale": [
             [
              0,
              "#0d0887"
             ],
             [
              0.1111111111111111,
              "#46039f"
             ],
             [
              0.2222222222222222,
              "#7201a8"
             ],
             [
              0.3333333333333333,
              "#9c179e"
             ],
             [
              0.4444444444444444,
              "#bd3786"
             ],
             [
              0.5555555555555556,
              "#d8576b"
             ],
             [
              0.6666666666666666,
              "#ed7953"
             ],
             [
              0.7777777777777778,
              "#fb9f3a"
             ],
             [
              0.8888888888888888,
              "#fdca26"
             ],
             [
              1,
              "#f0f921"
             ]
            ],
            "type": "histogram2dcontour"
           }
          ],
          "mesh3d": [
           {
            "colorbar": {
             "outlinewidth": 0,
             "ticks": ""
            },
            "type": "mesh3d"
           }
          ],
          "parcoords": [
           {
            "line": {
             "colorbar": {
              "outlinewidth": 0,
              "ticks": ""
             }
            },
            "type": "parcoords"
           }
          ],
          "pie": [
           {
            "automargin": true,
            "type": "pie"
           }
          ],
          "scatter": [
           {
            "marker": {
             "colorbar": {
              "outlinewidth": 0,
              "ticks": ""
             }
            },
            "type": "scatter"
           }
          ],
          "scatter3d": [
           {
            "line": {
             "colorbar": {
              "outlinewidth": 0,
              "ticks": ""
             }
            },
            "marker": {
             "colorbar": {
              "outlinewidth": 0,
              "ticks": ""
             }
            },
            "type": "scatter3d"
           }
          ],
          "scattercarpet": [
           {
            "marker": {
             "colorbar": {
              "outlinewidth": 0,
              "ticks": ""
             }
            },
            "type": "scattercarpet"
           }
          ],
          "scattergeo": [
           {
            "marker": {
             "colorbar": {
              "outlinewidth": 0,
              "ticks": ""
             }
            },
            "type": "scattergeo"
           }
          ],
          "scattergl": [
           {
            "marker": {
             "colorbar": {
              "outlinewidth": 0,
              "ticks": ""
             }
            },
            "type": "scattergl"
           }
          ],
          "scattermapbox": [
           {
            "marker": {
             "colorbar": {
              "outlinewidth": 0,
              "ticks": ""
             }
            },
            "type": "scattermapbox"
           }
          ],
          "scatterpolar": [
           {
            "marker": {
             "colorbar": {
              "outlinewidth": 0,
              "ticks": ""
             }
            },
            "type": "scatterpolar"
           }
          ],
          "scatterpolargl": [
           {
            "marker": {
             "colorbar": {
              "outlinewidth": 0,
              "ticks": ""
             }
            },
            "type": "scatterpolargl"
           }
          ],
          "scatterternary": [
           {
            "marker": {
             "colorbar": {
              "outlinewidth": 0,
              "ticks": ""
             }
            },
            "type": "scatterternary"
           }
          ],
          "surface": [
           {
            "colorbar": {
             "outlinewidth": 0,
             "ticks": ""
            },
            "colorscale": [
             [
              0,
              "#0d0887"
             ],
             [
              0.1111111111111111,
              "#46039f"
             ],
             [
              0.2222222222222222,
              "#7201a8"
             ],
             [
              0.3333333333333333,
              "#9c179e"
             ],
             [
              0.4444444444444444,
              "#bd3786"
             ],
             [
              0.5555555555555556,
              "#d8576b"
             ],
             [
              0.6666666666666666,
              "#ed7953"
             ],
             [
              0.7777777777777778,
              "#fb9f3a"
             ],
             [
              0.8888888888888888,
              "#fdca26"
             ],
             [
              1,
              "#f0f921"
             ]
            ],
            "type": "surface"
           }
          ],
          "table": [
           {
            "cells": {
             "fill": {
              "color": "#EBF0F8"
             },
             "line": {
              "color": "white"
             }
            },
            "header": {
             "fill": {
              "color": "#C8D4E3"
             },
             "line": {
              "color": "white"
             }
            },
            "type": "table"
           }
          ]
         },
         "layout": {
          "annotationdefaults": {
           "arrowcolor": "#2a3f5f",
           "arrowhead": 0,
           "arrowwidth": 1
          },
          "autotypenumbers": "strict",
          "coloraxis": {
           "colorbar": {
            "outlinewidth": 0,
            "ticks": ""
           }
          },
          "colorscale": {
           "diverging": [
            [
             0,
             "#8e0152"
            ],
            [
             0.1,
             "#c51b7d"
            ],
            [
             0.2,
             "#de77ae"
            ],
            [
             0.3,
             "#f1b6da"
            ],
            [
             0.4,
             "#fde0ef"
            ],
            [
             0.5,
             "#f7f7f7"
            ],
            [
             0.6,
             "#e6f5d0"
            ],
            [
             0.7,
             "#b8e186"
            ],
            [
             0.8,
             "#7fbc41"
            ],
            [
             0.9,
             "#4d9221"
            ],
            [
             1,
             "#276419"
            ]
           ],
           "sequential": [
            [
             0,
             "#0d0887"
            ],
            [
             0.1111111111111111,
             "#46039f"
            ],
            [
             0.2222222222222222,
             "#7201a8"
            ],
            [
             0.3333333333333333,
             "#9c179e"
            ],
            [
             0.4444444444444444,
             "#bd3786"
            ],
            [
             0.5555555555555556,
             "#d8576b"
            ],
            [
             0.6666666666666666,
             "#ed7953"
            ],
            [
             0.7777777777777778,
             "#fb9f3a"
            ],
            [
             0.8888888888888888,
             "#fdca26"
            ],
            [
             1,
             "#f0f921"
            ]
           ],
           "sequentialminus": [
            [
             0,
             "#0d0887"
            ],
            [
             0.1111111111111111,
             "#46039f"
            ],
            [
             0.2222222222222222,
             "#7201a8"
            ],
            [
             0.3333333333333333,
             "#9c179e"
            ],
            [
             0.4444444444444444,
             "#bd3786"
            ],
            [
             0.5555555555555556,
             "#d8576b"
            ],
            [
             0.6666666666666666,
             "#ed7953"
            ],
            [
             0.7777777777777778,
             "#fb9f3a"
            ],
            [
             0.8888888888888888,
             "#fdca26"
            ],
            [
             1,
             "#f0f921"
            ]
           ]
          },
          "colorway": [
           "#636efa",
           "#EF553B",
           "#00cc96",
           "#ab63fa",
           "#FFA15A",
           "#19d3f3",
           "#FF6692",
           "#B6E880",
           "#FF97FF",
           "#FECB52"
          ],
          "font": {
           "color": "#2a3f5f"
          },
          "geo": {
           "bgcolor": "white",
           "lakecolor": "white",
           "landcolor": "#E5ECF6",
           "showlakes": true,
           "showland": true,
           "subunitcolor": "white"
          },
          "hoverlabel": {
           "align": "left"
          },
          "hovermode": "closest",
          "mapbox": {
           "style": "light"
          },
          "paper_bgcolor": "white",
          "plot_bgcolor": "#E5ECF6",
          "polar": {
           "angularaxis": {
            "gridcolor": "white",
            "linecolor": "white",
            "ticks": ""
           },
           "bgcolor": "#E5ECF6",
           "radialaxis": {
            "gridcolor": "white",
            "linecolor": "white",
            "ticks": ""
           }
          },
          "scene": {
           "xaxis": {
            "backgroundcolor": "#E5ECF6",
            "gridcolor": "white",
            "gridwidth": 2,
            "linecolor": "white",
            "showbackground": true,
            "ticks": "",
            "zerolinecolor": "white"
           },
           "yaxis": {
            "backgroundcolor": "#E5ECF6",
            "gridcolor": "white",
            "gridwidth": 2,
            "linecolor": "white",
            "showbackground": true,
            "ticks": "",
            "zerolinecolor": "white"
           },
           "zaxis": {
            "backgroundcolor": "#E5ECF6",
            "gridcolor": "white",
            "gridwidth": 2,
            "linecolor": "white",
            "showbackground": true,
            "ticks": "",
            "zerolinecolor": "white"
           }
          },
          "shapedefaults": {
           "line": {
            "color": "#2a3f5f"
           }
          },
          "ternary": {
           "aaxis": {
            "gridcolor": "white",
            "linecolor": "white",
            "ticks": ""
           },
           "baxis": {
            "gridcolor": "white",
            "linecolor": "white",
            "ticks": ""
           },
           "bgcolor": "#E5ECF6",
           "caxis": {
            "gridcolor": "white",
            "linecolor": "white",
            "ticks": ""
           }
          },
          "title": {
           "x": 0.05
          },
          "xaxis": {
           "automargin": true,
           "gridcolor": "white",
           "linecolor": "white",
           "ticks": "",
           "title": {
            "standoff": 15
           },
           "zerolinecolor": "white",
           "zerolinewidth": 2
          },
          "yaxis": {
           "automargin": true,
           "gridcolor": "white",
           "linecolor": "white",
           "ticks": "",
           "title": {
            "standoff": 15
           },
           "zerolinecolor": "white",
           "zerolinewidth": 2
          }
         }
        },
        "title": {
         "text": "Youth Importance of Spending on Looks"
        },
        "xaxis": {
         "anchor": "y",
         "domain": [
          0,
          1
         ],
         "title": {
          "text": "Agreement Level"
         }
        },
        "yaxis": {
         "anchor": "x",
         "domain": [
          0,
          1
         ],
         "title": {
          "text": "count"
         }
        }
       }
      },
      "text/html": "<div>                            <div id=\"ed11c287-28ff-42c1-a99f-42ab53ca7123\" class=\"plotly-graph-div\" style=\"height:525px; width:100%;\"></div>            <script type=\"text/javascript\">                require([\"plotly\"], function(Plotly) {                    window.PLOTLYENV=window.PLOTLYENV || {};                                    if (document.getElementById(\"ed11c287-28ff-42c1-a99f-42ab53ca7123\")) {                    Plotly.newPlot(                        \"ed11c287-28ff-42c1-a99f-42ab53ca7123\",                        [{\"alignmentgroup\": \"True\", \"bingroup\": \"x\", \"hovertemplate\": \"Agreement Level=%{x}<br>count=%{y}<extra></extra>\", \"legendgroup\": \"\", \"marker\": {\"color\": \"#636efa\"}, \"name\": \"\", \"offsetgroup\": \"\", \"orientation\": \"v\", \"showlegend\": false, \"type\": \"histogram\", \"x\": [3.0, 2.0, 3.0, 4.0, 3.0, 1.0, 4.0, 4.0, 1.0, 3.0, 4.0, 1.0, 3.0, 4.0, 5.0, 3.0, 3.0, 2.0, 4.0, 3.0, 2.0, 1.0, 2.0, 4.0, 5.0, 3.0, 4.0, 3.0, 4.0, 3.0, 4.0, 2.0, 5.0, 1.0, 3.0, 3.0, 3.0, 3.0, 1.0, 3.0, 5.0, 1.0, 2.0, 5.0, 5.0, 5.0, 4.0, 4.0, 3.0, 3.0, 4.0, 2.0, 5.0, 1.0, 4.0, 4.0, 5.0, 5.0, 2.0, 2.0, 1.0, 4.0, 3.0, 4.0, 5.0, 3.0, 2.0, 2.0, 4.0, 1.0, 3.0, 2.0, 2.0, 4.0, 5.0, 4.0, 2.0, 5.0, 2.0, 5.0, 3.0, 2.0, 3.0, 5.0, 5.0, 2.0, 1.0, 5.0, 2.0, 3.0, 4.0, 3.0, 3.0, 2.0, 3.0, 4.0, 1.0, 1.0, 1.0, 2.0, 4.0, 2.0, 3.0, 5.0, 4.0, 2.0, 2.0, 3.0, 3.0, 2.0, 2.0, 2.0, 3.0, 2.0, 3.0, 5.0, 2.0, 2.0, 1.0, 4.0, 1.0, 1.0, 2.0, 2.0, 4.0, 4.0, 1.0, 2.0, 3.0, 3.0, 5.0, 3.0, 2.0, 2.0, 5.0, 1.0, 2.0, 1.0, 1.0, 1.0, 1.0, 1.0, 4.0, 5.0, 1.0, 2.0, 3.0, 1.0, 3.0, 1.0, 3.0, 3.0, 4.0, 5.0, 3.0, 5.0, 4.0, 2.0, 5.0, 3.0, 2.0, 4.0, 4.0, 3.0, 5.0, 4.0, 2.0, 1.0, 5.0, 2.0, 2.0, 5.0, 1.0, 2.0, 2.0, 1.0, 2.0, 3.0, 2.0, 3.0, 4.0, 2.0, 4.0, 4.0, 2.0, 2.0, null, 1.0, 3.0, 1.0, 3.0, 1.0, 5.0, 3.0, 4.0, 4.0, 4.0, 4.0, 2.0, 3.0, 2.0, 4.0, 4.0, 4.0, 2.0, 1.0, 3.0, 3.0, 4.0, 2.0, 5.0, 4.0, 4.0, 4.0, 4.0, 5.0, 5.0, 2.0, 4.0, 5.0, 4.0, 1.0, 4.0, 5.0, 2.0, 3.0, 3.0, 2.0, 1.0, 1.0, 4.0, 5.0, 1.0, 3.0, 1.0, 4.0, 5.0, 4.0, 5.0, 4.0, 2.0, 4.0, 4.0, 1.0, 4.0, 4.0, 3.0, 4.0, 5.0, 3.0, 4.0, 3.0, 2.0, 5.0, 3.0, 1.0, 5.0, 3.0, 1.0, 3.0, 3.0, 5.0, 3.0, 5.0, 1.0, 3.0, 3.0, 3.0, 4.0, 2.0, 4.0, 4.0, 1.0, 3.0, 3.0, 4.0, 5.0, 4.0, 1.0, 5.0, 4.0, 2.0, 4.0, 3.0, 3.0, 3.0, 4.0, 4.0, 2.0, 2.0, 4.0, 2.0, 5.0, 1.0, 3.0, 4.0, 2.0, 2.0, 4.0, 3.0, 3.0, 3.0, 4.0, 2.0, 1.0, 5.0, 3.0, 1.0, 4.0, 4.0, 3.0, 5.0, 1.0, 3.0, 1.0, 5.0, 3.0, 2.0, 3.0, 2.0, 2.0, 3.0, 3.0, 4.0, 3.0, 4.0, 3.0, 3.0, 5.0, 5.0, 3.0, 3.0, 2.0, 4.0, 2.0, 2.0, 1.0, 3.0, 5.0, 2.0, 5.0, 5.0, 4.0, 3.0, 3.0, 2.0, 3.0, 5.0, 5.0, 5.0, 3.0, 4.0, 4.0, 3.0, 5.0, 2.0, 3.0, 5.0, 2.0, 4.0, 5.0, 1.0, 1.0, 1.0, 4.0, 4.0, 2.0, 3.0, 3.0, 3.0, 4.0, 3.0, 2.0, 1.0, 5.0, 1.0, 1.0, 1.0, 3.0, 2.0, 4.0, 4.0, 5.0, 4.0, 4.0, 3.0, 3.0, 5.0, 4.0, 4.0, 2.0, 3.0, 3.0, 2.0, 4.0, 3.0, 1.0, 5.0, 3.0, 4.0, 3.0, 3.0, 1.0, 1.0, 4.0, 3.0, 3.0, 4.0, 3.0, 4.0, 3.0, 4.0, 5.0, 2.0, 3.0, 5.0, 4.0, 2.0, 2.0, 1.0, 4.0, 1.0, 4.0, 2.0, 3.0, 3.0, 1.0, 2.0, 2.0, 5.0, 2.0, 3.0, 2.0, 3.0, 5.0, 3.0, 4.0, 5.0, 2.0, 5.0, 4.0, 3.0, 5.0, 3.0, 2.0, 4.0, 4.0, 2.0, 4.0, 2.0, 5.0, 4.0, 5.0, 3.0, 4.0, 3.0, 3.0, 1.0, 2.0, 3.0, 5.0, 4.0, 2.0, 2.0, 5.0, 4.0, 3.0, 2.0, 4.0, 3.0, 3.0, 2.0, 2.0, 1.0, 3.0, 2.0, 4.0, 3.0, 3.0, 3.0, 4.0, 2.0, 3.0, 5.0, 3.0, 2.0, 2.0, 5.0, 2.0, 5.0, 3.0, 3.0, 3.0, 3.0, 3.0, 4.0, 2.0, 3.0, 3.0, 2.0, 3.0, 4.0, 4.0, 1.0, 5.0, 3.0, 3.0, 4.0, 3.0, 4.0, 4.0, 3.0, 5.0, 3.0, 2.0, 1.0, 5.0, 5.0, 4.0, 3.0, 3.0, 5.0, 4.0, 4.0, 2.0, 3.0, 3.0, 5.0, 1.0, 2.0, 2.0, 1.0, 5.0, 4.0, 3.0, 5.0, 5.0, 1.0, 1.0, 3.0, 3.0, 5.0, 4.0, 2.0, 4.0, 1.0, 2.0, 1.0, 3.0, 4.0, 4.0, 3.0, 4.0, 4.0, 3.0, 5.0, 4.0, 3.0, 2.0, 3.0, 1.0, 1.0, 3.0, 5.0, 3.0, 3.0, 2.0, null, 3.0, 2.0, 5.0, 4.0, 4.0, 5.0, 1.0, 2.0, 3.0, 3.0, 2.0, 2.0, 2.0, 3.0, 3.0, 2.0, 2.0, 4.0, 1.0, 4.0, 4.0, 4.0, 3.0, 3.0, 5.0, 2.0, 4.0, 1.0, 5.0, 3.0, 2.0, 3.0, 2.0, 3.0, 1.0, 2.0, 4.0, 4.0, 2.0, 4.0, 2.0, 2.0, 2.0, 5.0, 5.0, 4.0, 4.0, 2.0, 2.0, 3.0, 5.0, 2.0, 3.0, 3.0, 3.0, 2.0, 5.0, 3.0, 3.0, 1.0, 2.0, 5.0, 4.0, 3.0, 2.0, 2.0, 4.0, 1.0, 3.0, 4.0, 4.0, 2.0, 4.0, 2.0, 4.0, 2.0, 2.0, 4.0, 2.0, 3.0, 4.0, 4.0, 3.0, 3.0, 1.0, 2.0, 4.0, 4.0, 5.0, 4.0, 1.0, 3.0, 2.0, 4.0, 3.0, 3.0, 3.0, 2.0, 3.0, 1.0, 3.0, 3.0, 3.0, 4.0, 2.0, 3.0, 4.0, 3.0, 4.0, 4.0, 1.0, 1.0, 3.0, 2.0, 4.0, 2.0, 3.0, 4.0, 3.0, 3.0, 3.0, 4.0, 3.0, 5.0, 4.0, 3.0, 2.0, 3.0, 2.0, 4.0, 5.0, 4.0, 3.0, 2.0, 3.0, 2.0, 4.0, 3.0, 3.0, 2.0, 2.0, 4.0, 4.0, 2.0, 4.0, 3.0, 3.0, 1.0, 2.0, 3.0, 3.0, 1.0, 3.0, 3.0, 4.0, 1.0, 2.0, 3.0, 4.0, 5.0, 5.0, 3.0, 3.0, 4.0, 2.0, 3.0, 1.0, 2.0, 4.0, 3.0, 5.0, 3.0, 4.0, 3.0, 4.0, 5.0, 2.0, 2.0, 4.0, 4.0, 3.0, 3.0, 3.0, 4.0, 5.0, 2.0, 4.0, 3.0, 4.0, 4.0, 3.0, 2.0, 4.0, 3.0, 5.0, 3.0, 3.0, 2.0, 5.0, 3.0, 4.0, 4.0, 3.0, 3.0, 2.0, 4.0, 3.0, 5.0, 4.0, 3.0, 4.0, 5.0, 3.0, 2.0, 4.0, 5.0, 3.0, 3.0, 3.0, 5.0, 3.0, 5.0, 1.0, 5.0, 4.0, 2.0, 1.0, 5.0, 5.0, 4.0, 3.0, 3.0, 4.0, 3.0, 3.0, 3.0, 1.0, 5.0, 3.0, 4.0, 4.0, 5.0, 3.0, 2.0, 5.0, 4.0, 4.0, 1.0, 4.0, 5.0, 3.0, 2.0, 3.0, 3.0, 3.0, 5.0, 3.0, 4.0, 2.0, 4.0, 2.0, 2.0, 3.0, 4.0, 5.0, 5.0, 2.0, 3.0, 5.0, 1.0, 4.0, 4.0, 3.0, 5.0, 1.0, 5.0, 4.0, 4.0, 4.0, 5.0, 5.0, 2.0, 3.0, 5.0, 4.0, 3.0, 4.0, 4.0, 5.0, 3.0, 2.0, 5.0, 3.0, 3.0, 4.0, 4.0, 2.0, 3.0, 2.0, 3.0, 2.0, 5.0, 3.0, 5.0, 3.0, 4.0, 4.0, 3.0, 4.0, 3.0, 5.0, 4.0, 4.0, 5.0, 4.0, 2.0, 5.0, 4.0, 2.0, 3.0, 4.0, 2.0, 5.0, 3.0, 2.0, 3.0, 4.0, 3.0, 2.0, 4.0, 3.0, 4.0, 4.0, 1.0, 3.0, 1.0, 3.0, 4.0, 2.0, 4.0, 2.0, 4.0, 4.0, 3.0, 4.0, 3.0, 2.0, 3.0, 1.0, 3.0, 3.0, 4.0, 3.0, 4.0, 5.0, 3.0, 4.0, 4.0, 3.0, 4.0, 2.0, 3.0, 3.0, 4.0, 4.0, 4.0, 2.0, 3.0, 1.0, 2.0, 5.0, 2.0, 4.0, 4.0, 2.0, 3.0, 4.0, 1.0, 4.0, 3.0, 3.0, 2.0, 3.0, 4.0, 1.0, 3.0, 2.0, 3.0, 3.0, 3.0, 4.0, 3.0, 2.0, 3.0, 3.0, null, 2.0, 3.0, 5.0, 2.0, 2.0, 1.0, 5.0, 3.0, 2.0, 2.0, 1.0, 3.0, 4.0, 3.0, 2.0, 4.0, 2.0, 2.0, 4.0, 4.0, 1.0, 3.0, 1.0, 2.0, 5.0, 3.0, 3.0, 2.0, 1.0, 3.0, 4.0, 2.0, 3.0, 2.0, 3.0, 2.0], \"xaxis\": \"x\", \"yaxis\": \"y\"}],                        {\"barmode\": \"relative\", \"legend\": {\"tracegroupgap\": 0}, \"template\": {\"data\": {\"bar\": [{\"error_x\": {\"color\": \"#2a3f5f\"}, \"error_y\": {\"color\": \"#2a3f5f\"}, \"marker\": {\"line\": {\"color\": \"#E5ECF6\", \"width\": 0.5}}, \"type\": \"bar\"}], \"barpolar\": [{\"marker\": {\"line\": {\"color\": \"#E5ECF6\", \"width\": 0.5}}, \"type\": \"barpolar\"}], \"carpet\": [{\"aaxis\": {\"endlinecolor\": \"#2a3f5f\", \"gridcolor\": \"white\", \"linecolor\": \"white\", \"minorgridcolor\": \"white\", \"startlinecolor\": \"#2a3f5f\"}, \"baxis\": {\"endlinecolor\": \"#2a3f5f\", \"gridcolor\": \"white\", \"linecolor\": \"white\", \"minorgridcolor\": \"white\", \"startlinecolor\": \"#2a3f5f\"}, \"type\": \"carpet\"}], \"choropleth\": [{\"colorbar\": {\"outlinewidth\": 0, \"ticks\": \"\"}, \"type\": \"choropleth\"}], \"contour\": [{\"colorbar\": {\"outlinewidth\": 0, \"ticks\": \"\"}, \"colorscale\": [[0.0, \"#0d0887\"], [0.1111111111111111, \"#46039f\"], [0.2222222222222222, \"#7201a8\"], [0.3333333333333333, \"#9c179e\"], [0.4444444444444444, \"#bd3786\"], [0.5555555555555556, \"#d8576b\"], [0.6666666666666666, \"#ed7953\"], [0.7777777777777778, \"#fb9f3a\"], [0.8888888888888888, \"#fdca26\"], [1.0, \"#f0f921\"]], \"type\": \"contour\"}], \"contourcarpet\": [{\"colorbar\": {\"outlinewidth\": 0, \"ticks\": \"\"}, \"type\": \"contourcarpet\"}], \"heatmap\": [{\"colorbar\": {\"outlinewidth\": 0, \"ticks\": \"\"}, \"colorscale\": [[0.0, \"#0d0887\"], [0.1111111111111111, \"#46039f\"], [0.2222222222222222, \"#7201a8\"], [0.3333333333333333, \"#9c179e\"], [0.4444444444444444, \"#bd3786\"], [0.5555555555555556, \"#d8576b\"], [0.6666666666666666, \"#ed7953\"], [0.7777777777777778, \"#fb9f3a\"], [0.8888888888888888, \"#fdca26\"], [1.0, \"#f0f921\"]], \"type\": \"heatmap\"}], \"heatmapgl\": [{\"colorbar\": {\"outlinewidth\": 0, \"ticks\": \"\"}, \"colorscale\": [[0.0, \"#0d0887\"], [0.1111111111111111, \"#46039f\"], [0.2222222222222222, \"#7201a8\"], [0.3333333333333333, \"#9c179e\"], [0.4444444444444444, \"#bd3786\"], [0.5555555555555556, \"#d8576b\"], [0.6666666666666666, \"#ed7953\"], [0.7777777777777778, \"#fb9f3a\"], [0.8888888888888888, \"#fdca26\"], [1.0, \"#f0f921\"]], \"type\": \"heatmapgl\"}], \"histogram\": [{\"marker\": {\"colorbar\": {\"outlinewidth\": 0, \"ticks\": \"\"}}, \"type\": \"histogram\"}], \"histogram2d\": [{\"colorbar\": {\"outlinewidth\": 0, \"ticks\": \"\"}, \"colorscale\": [[0.0, \"#0d0887\"], [0.1111111111111111, \"#46039f\"], [0.2222222222222222, \"#7201a8\"], [0.3333333333333333, \"#9c179e\"], [0.4444444444444444, \"#bd3786\"], [0.5555555555555556, \"#d8576b\"], [0.6666666666666666, \"#ed7953\"], [0.7777777777777778, \"#fb9f3a\"], [0.8888888888888888, \"#fdca26\"], [1.0, \"#f0f921\"]], \"type\": \"histogram2d\"}], \"histogram2dcontour\": [{\"colorbar\": {\"outlinewidth\": 0, \"ticks\": \"\"}, \"colorscale\": [[0.0, \"#0d0887\"], [0.1111111111111111, \"#46039f\"], [0.2222222222222222, \"#7201a8\"], [0.3333333333333333, \"#9c179e\"], [0.4444444444444444, \"#bd3786\"], [0.5555555555555556, \"#d8576b\"], [0.6666666666666666, \"#ed7953\"], [0.7777777777777778, \"#fb9f3a\"], [0.8888888888888888, \"#fdca26\"], [1.0, \"#f0f921\"]], \"type\": \"histogram2dcontour\"}], \"mesh3d\": [{\"colorbar\": {\"outlinewidth\": 0, \"ticks\": \"\"}, \"type\": \"mesh3d\"}], \"parcoords\": [{\"line\": {\"colorbar\": {\"outlinewidth\": 0, \"ticks\": \"\"}}, \"type\": \"parcoords\"}], \"pie\": [{\"automargin\": true, \"type\": \"pie\"}], \"scatter\": [{\"marker\": {\"colorbar\": {\"outlinewidth\": 0, \"ticks\": \"\"}}, \"type\": \"scatter\"}], \"scatter3d\": [{\"line\": {\"colorbar\": {\"outlinewidth\": 0, \"ticks\": \"\"}}, \"marker\": {\"colorbar\": {\"outlinewidth\": 0, \"ticks\": \"\"}}, \"type\": \"scatter3d\"}], \"scattercarpet\": [{\"marker\": {\"colorbar\": {\"outlinewidth\": 0, \"ticks\": \"\"}}, \"type\": \"scattercarpet\"}], \"scattergeo\": [{\"marker\": {\"colorbar\": {\"outlinewidth\": 0, \"ticks\": \"\"}}, \"type\": \"scattergeo\"}], \"scattergl\": [{\"marker\": {\"colorbar\": {\"outlinewidth\": 0, \"ticks\": \"\"}}, \"type\": \"scattergl\"}], \"scattermapbox\": [{\"marker\": {\"colorbar\": {\"outlinewidth\": 0, \"ticks\": \"\"}}, \"type\": \"scattermapbox\"}], \"scatterpolar\": [{\"marker\": {\"colorbar\": {\"outlinewidth\": 0, \"ticks\": \"\"}}, \"type\": \"scatterpolar\"}], \"scatterpolargl\": [{\"marker\": {\"colorbar\": {\"outlinewidth\": 0, \"ticks\": \"\"}}, \"type\": \"scatterpolargl\"}], \"scatterternary\": [{\"marker\": {\"colorbar\": {\"outlinewidth\": 0, \"ticks\": \"\"}}, \"type\": \"scatterternary\"}], \"surface\": [{\"colorbar\": {\"outlinewidth\": 0, \"ticks\": \"\"}, \"colorscale\": [[0.0, \"#0d0887\"], [0.1111111111111111, \"#46039f\"], [0.2222222222222222, \"#7201a8\"], [0.3333333333333333, \"#9c179e\"], [0.4444444444444444, \"#bd3786\"], [0.5555555555555556, \"#d8576b\"], [0.6666666666666666, \"#ed7953\"], [0.7777777777777778, \"#fb9f3a\"], [0.8888888888888888, \"#fdca26\"], [1.0, \"#f0f921\"]], \"type\": \"surface\"}], \"table\": [{\"cells\": {\"fill\": {\"color\": \"#EBF0F8\"}, \"line\": {\"color\": \"white\"}}, \"header\": {\"fill\": {\"color\": \"#C8D4E3\"}, \"line\": {\"color\": \"white\"}}, \"type\": \"table\"}]}, \"layout\": {\"annotationdefaults\": {\"arrowcolor\": \"#2a3f5f\", \"arrowhead\": 0, \"arrowwidth\": 1}, \"autotypenumbers\": \"strict\", \"coloraxis\": {\"colorbar\": {\"outlinewidth\": 0, \"ticks\": \"\"}}, \"colorscale\": {\"diverging\": [[0, \"#8e0152\"], [0.1, \"#c51b7d\"], [0.2, \"#de77ae\"], [0.3, \"#f1b6da\"], [0.4, \"#fde0ef\"], [0.5, \"#f7f7f7\"], [0.6, \"#e6f5d0\"], [0.7, \"#b8e186\"], [0.8, \"#7fbc41\"], [0.9, \"#4d9221\"], [1, \"#276419\"]], \"sequential\": [[0.0, \"#0d0887\"], [0.1111111111111111, \"#46039f\"], [0.2222222222222222, \"#7201a8\"], [0.3333333333333333, \"#9c179e\"], [0.4444444444444444, \"#bd3786\"], [0.5555555555555556, \"#d8576b\"], [0.6666666666666666, \"#ed7953\"], [0.7777777777777778, \"#fb9f3a\"], [0.8888888888888888, \"#fdca26\"], [1.0, \"#f0f921\"]], \"sequentialminus\": [[0.0, \"#0d0887\"], [0.1111111111111111, \"#46039f\"], [0.2222222222222222, \"#7201a8\"], [0.3333333333333333, \"#9c179e\"], [0.4444444444444444, \"#bd3786\"], [0.5555555555555556, \"#d8576b\"], [0.6666666666666666, \"#ed7953\"], [0.7777777777777778, \"#fb9f3a\"], [0.8888888888888888, \"#fdca26\"], [1.0, \"#f0f921\"]]}, \"colorway\": [\"#636efa\", \"#EF553B\", \"#00cc96\", \"#ab63fa\", \"#FFA15A\", \"#19d3f3\", \"#FF6692\", \"#B6E880\", \"#FF97FF\", \"#FECB52\"], \"font\": {\"color\": \"#2a3f5f\"}, \"geo\": {\"bgcolor\": \"white\", \"lakecolor\": \"white\", \"landcolor\": \"#E5ECF6\", \"showlakes\": true, \"showland\": true, \"subunitcolor\": \"white\"}, \"hoverlabel\": {\"align\": \"left\"}, \"hovermode\": \"closest\", \"mapbox\": {\"style\": \"light\"}, \"paper_bgcolor\": \"white\", \"plot_bgcolor\": \"#E5ECF6\", \"polar\": {\"angularaxis\": {\"gridcolor\": \"white\", \"linecolor\": \"white\", \"ticks\": \"\"}, \"bgcolor\": \"#E5ECF6\", \"radialaxis\": {\"gridcolor\": \"white\", \"linecolor\": \"white\", \"ticks\": \"\"}}, \"scene\": {\"xaxis\": {\"backgroundcolor\": \"#E5ECF6\", \"gridcolor\": \"white\", \"gridwidth\": 2, \"linecolor\": \"white\", \"showbackground\": true, \"ticks\": \"\", \"zerolinecolor\": \"white\"}, \"yaxis\": {\"backgroundcolor\": \"#E5ECF6\", \"gridcolor\": \"white\", \"gridwidth\": 2, \"linecolor\": \"white\", \"showbackground\": true, \"ticks\": \"\", \"zerolinecolor\": \"white\"}, \"zaxis\": {\"backgroundcolor\": \"#E5ECF6\", \"gridcolor\": \"white\", \"gridwidth\": 2, \"linecolor\": \"white\", \"showbackground\": true, \"ticks\": \"\", \"zerolinecolor\": \"white\"}}, \"shapedefaults\": {\"line\": {\"color\": \"#2a3f5f\"}}, \"ternary\": {\"aaxis\": {\"gridcolor\": \"white\", \"linecolor\": \"white\", \"ticks\": \"\"}, \"baxis\": {\"gridcolor\": \"white\", \"linecolor\": \"white\", \"ticks\": \"\"}, \"bgcolor\": \"#E5ECF6\", \"caxis\": {\"gridcolor\": \"white\", \"linecolor\": \"white\", \"ticks\": \"\"}}, \"title\": {\"x\": 0.05}, \"xaxis\": {\"automargin\": true, \"gridcolor\": \"white\", \"linecolor\": \"white\", \"ticks\": \"\", \"title\": {\"standoff\": 15}, \"zerolinecolor\": \"white\", \"zerolinewidth\": 2}, \"yaxis\": {\"automargin\": true, \"gridcolor\": \"white\", \"linecolor\": \"white\", \"ticks\": \"\", \"title\": {\"standoff\": 15}, \"zerolinecolor\": \"white\", \"zerolinewidth\": 2}}}, \"title\": {\"text\": \"Youth Importance of Spending on Looks\"}, \"xaxis\": {\"anchor\": \"y\", \"domain\": [0.0, 1.0], \"title\": {\"text\": \"Agreement Level\"}}, \"yaxis\": {\"anchor\": \"x\", \"domain\": [0.0, 1.0], \"title\": {\"text\": \"count\"}}},                        {\"responsive\": true}                    ).then(function(){\n                            \nvar gd = document.getElementById('ed11c287-28ff-42c1-a99f-42ab53ca7123');\nvar x = new MutationObserver(function (mutations, observer) {{\n        var display = window.getComputedStyle(gd).display;\n        if (!display || display === 'none') {{\n            console.log([gd, 'removed!']);\n            Plotly.purge(gd);\n            observer.disconnect();\n        }}\n}});\n\n// Listen for the removal of the full notebook cells\nvar notebookContainer = gd.closest('#notebook-container');\nif (notebookContainer) {{\n    x.observe(notebookContainer, {childList: true});\n}}\n\n// Listen for the clearing of the current output cell\nvar outputEl = gd.closest('.output');\nif (outputEl) {{\n    x.observe(outputEl, {childList: true});\n}}\n\n                        })                };                });            </script>        </div>"
     },
     "metadata": {}
    }
   ],
   "source": [
    "hist_fig = px.histogram(looks, title='Youth Importance of Spending on Looks', x='Agreement Level')\n",
    "hist_fig.show()"
   ]
  },
  {
   "source": [
    "## Part 3"
   ],
   "cell_type": "markdown",
   "metadata": {}
  },
  {
   "source": [
    "### Preparing the data"
   ],
   "cell_type": "markdown",
   "metadata": {}
  },
  {
   "cell_type": "code",
   "execution_count": 134,
   "metadata": {},
   "outputs": [
    {
     "output_type": "stream",
     "name": "stdout",
     "text": [
      "Observed Frequency:\n1.0    108\n2.0    205\n3.0    297\n4.0    245\n5.0    142\nName: Agreement Level, dtype: int64\n\nTotal count:\n997\n\n"
     ]
    }
   ],
   "source": [
    "# Observed Frequency\n",
    "print('Observed Frequency:')\n",
    "looks_freq = looks.value_counts().sort_index()\n",
    "print(looks_freq)\n",
    "print()\n",
    "\n",
    "# Total count\n",
    "print('Total count:')\n",
    "print(looks.count())\n",
    "print()\n"
   ]
  },
  {
   "cell_type": "code",
   "execution_count": 165,
   "metadata": {},
   "outputs": [
    {
     "output_type": "stream",
     "name": "stdout",
     "text": [
      "Class Probability:\n1.0\n0.0712378671740362\n2.0\n0.21697093970606424\n3.0\n0.3306361694458289\n4.0\n0.2520909652181995\n5.0\n0.09616617243723527\n0.9671021139813641\n\n"
     ]
    }
   ],
   "source": [
    "# Class Probability\n",
    "print('Class Probability:')\n",
    "observed = [0] * 5\n",
    "sum = 0\n",
    "z_looks_freq = stats.zscore(looks_freq)\n",
    "for i in range(len(looks_freq.index)):\n",
    "    print(looks_freq.index[i])\n",
    "    prob = norm(looks.mean(), looks.std()).pdf(looks_freq.index[i])\n",
    "    observed[i] = prob\n",
    "    print(prob)\n",
    "    sum += prob\n",
    "print(sum)\n",
    "print()"
   ]
  },
  {
   "cell_type": "code",
   "execution_count": 150,
   "metadata": {},
   "outputs": [
    {
     "output_type": "stream",
     "name": "stdout",
     "text": [
      "Expected Frequency\n1.0\n108.0\n2.0\n205.0\n3.0\n297.0\n4.0\n245.0\n5.0\n142.0\n997.0\n"
     ]
    }
   ],
   "source": [
    "# Expected Frequency\n",
    "sum = 0\n",
    "expected = [0] * 5\n",
    "print('Expected Frequency')\n",
    "for i in range(len(looks_freq.index)):\n",
    "    print(looks_freq.index[i])\n",
    "    prob = looks_freq.array[i]/looks.count()\n",
    "    expected_freq = prob * looks.count()\n",
    "    expected[i] = expected_freq\n",
    "    print(expected_freq)\n",
    "    sum += expected_freq\n",
    "print(sum)"
   ]
  },
  {
   "source": [
    "### Chi Square"
   ],
   "cell_type": "markdown",
   "metadata": {}
  },
  {
   "cell_type": "code",
   "execution_count": 149,
   "metadata": {},
   "outputs": [
    {
     "output_type": "stream",
     "name": "stdout",
     "text": [
      "Chi Square Values\n1.0\n107.85757125485304\n2.0\n204.56628776150822\n3.0\n296.3390957428476\n4.0\n244.49607745672583\n5.0\n141.80773278141234\n995.066764997347\n\nPerforming the test:\nPower_divergenceResult(statistic=995.066764997347, pvalue=4.184963386288389e-214)\n"
     ]
    }
   ],
   "source": [
    "print('Chi Square Values')\n",
    "\n",
    "# Chi Square component\n",
    "sum = 0\n",
    "looks_c2 = [0] * 5\n",
    "for i in range(len(looks_freq.index)):\n",
    "    print(looks_freq.index[i])\n",
    "    looks_c2[i] = ((observed[i] - expected[i]) ** 2)/(expected[i])\n",
    "    print(looks_c2[i])\n",
    "    sum += looks_c2[i]\n",
    "print(sum)\n",
    "\n",
    "print('\\nPerforming the test:')\n",
    "print(chisquare(f_obs=observed, f_exp=expected))"
   ]
  }
 ],
 "metadata": {
  "kernelspec": {
   "name": "python3",
   "display_name": "Python 3",
   "language": "python"
  }
 },
 "nbformat": 4,
 "nbformat_minor": 5
}