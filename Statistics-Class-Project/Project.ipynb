{
 "cells": [
  {
   "cell_type": "markdown",
   "id": "84e74930-76c0-4783-97ab-843353ea59c6",
   "metadata": {},
   "source": [
    "# Statistics Project"
   ]
  },
  {
   "cell_type": "code",
   "execution_count": 6,
   "id": "2bdc7368-1296-4e0d-b674-93bc1c5ff085",
   "metadata": {},
   "outputs": [],
   "source": [
    "import pandas as pd\n",
    "import matplotlib.pyplot as plt\n",
    "import numpy as np # linear algebrab"
   ]
  },
  {
   "source": [
    "# Distribution graphs (histogram/bar graph) of column data\n",
    "def plotPerColumnDistribution(df, nGraphShown, nGraphPerRow):\n",
    "    nunique = df.nunique()\n",
    "    df = df[[col for col in df if nunique[col] > 1 and nunique[col] < 50]] # For displaying purposes, pick columns that have between 1 and 50 unique values\n",
    "    nRow, nCol = df.shape\n",
    "    columnNames = list(df)\n",
    "    nGraphRow = (nCol + nGraphPerRow - 1) / nGraphPerRow\n",
    "    plt.figure(num = None, figsize = (6 * nGraphPerRow, 8 * nGraphRow), dpi = 80, facecolor = 'w', edgecolor = 'k')\n",
    "    for i in range(min(nCol, nGraphShown)):\n",
    "        plt.subplot(nGraphRow, nGraphPerRow, i + 1)\n",
    "        columnDf = df.iloc[:, i]\n",
    "        if (not np.issubdtype(type(columnDf.iloc[0]), np.number)):\n",
    "            valueCounts = columnDf.value_counts()\n",
    "            valueCounts.plot.bar()\n",
    "        else:\n",
    "            columnDf.hist()\n",
    "        plt.ylabel('counts')\n",
    "        plt.xticks(rotation = 90)\n",
    "        plt.title(f'{columnNames[i]} (column {i})')\n",
    "    plt.tight_layout(pad = 1.0, w_pad = 1.0, h_pad = 1.0)\n",
    "    plt.show()"
   ],
   "cell_type": "code",
   "metadata": {},
   "execution_count": 8,
   "outputs": []
  },
  {
   "cell_type": "code",
   "execution_count": 2,
   "metadata": {},
   "outputs": [],
   "source": [
    "nRowsRead = 1000\n",
    "df1 = pd.read_csv('data/columns.csv', delimiter=',', nrows=nRowsRead)\n",
    "df1.dataframeName = 'columns.csv'"
   ]
  },
  {
   "cell_type": "code",
   "execution_count": 4,
   "metadata": {},
   "outputs": [
    {
     "output_type": "execute_result",
     "data": {
      "text/plain": [
       "                      original                     short\n",
       "0  I enjoy listening to music.                     Music\n",
       "1                    I prefer.  Slow songs or fast songs\n",
       "2           Dance, Disco, Funk                     Dance\n",
       "3                   Folk music                      Folk\n",
       "4                      Country                   Country"
      ],
      "text/html": "<div>\n<style scoped>\n    .dataframe tbody tr th:only-of-type {\n        vertical-align: middle;\n    }\n\n    .dataframe tbody tr th {\n        vertical-align: top;\n    }\n\n    .dataframe thead th {\n        text-align: right;\n    }\n</style>\n<table border=\"1\" class=\"dataframe\">\n  <thead>\n    <tr style=\"text-align: right;\">\n      <th></th>\n      <th>original</th>\n      <th>short</th>\n    </tr>\n  </thead>\n  <tbody>\n    <tr>\n      <th>0</th>\n      <td>I enjoy listening to music.</td>\n      <td>Music</td>\n    </tr>\n    <tr>\n      <th>1</th>\n      <td>I prefer.</td>\n      <td>Slow songs or fast songs</td>\n    </tr>\n    <tr>\n      <th>2</th>\n      <td>Dance, Disco, Funk</td>\n      <td>Dance</td>\n    </tr>\n    <tr>\n      <th>3</th>\n      <td>Folk music</td>\n      <td>Folk</td>\n    </tr>\n    <tr>\n      <th>4</th>\n      <td>Country</td>\n      <td>Country</td>\n    </tr>\n  </tbody>\n</table>\n</div>"
     },
     "metadata": {},
     "execution_count": 4
    }
   ],
   "source": [
    "df1.head(5)"
   ]
  },
  {
   "cell_type": "code",
   "execution_count": 10,
   "metadata": {},
   "outputs": [],
   "source": [
    "df2 = pd.read_csv('data/responses.csv', delimiter=',', nrows=nRowsRead)\n",
    "df2.dataframeName = 'responses.csv'"
   ]
  },
  {
   "cell_type": "code",
   "execution_count": 15,
   "metadata": {},
   "outputs": [
    {
     "output_type": "execute_result",
     "data": {
      "text/plain": [
       "   Music  Slow songs or fast songs  Dance  Folk  Country  Classical music  \\\n",
       "0    5.0                       3.0    2.0   1.0      2.0              2.0   \n",
       "1    4.0                       4.0    2.0   1.0      1.0              1.0   \n",
       "2    5.0                       5.0    2.0   2.0      3.0              4.0   \n",
       "3    5.0                       3.0    2.0   1.0      1.0              1.0   \n",
       "4    5.0                       3.0    4.0   3.0      2.0              4.0   \n",
       "\n",
       "   Musical  Pop  Rock  Metal or Hardrock  ...   Age  Height  Weight  \\\n",
       "0      1.0  5.0   5.0                1.0  ...  20.0   163.0    48.0   \n",
       "1      2.0  3.0   5.0                4.0  ...  19.0   163.0    58.0   \n",
       "2      5.0  3.0   5.0                3.0  ...  20.0   176.0    67.0   \n",
       "3      1.0  2.0   2.0                1.0  ...  22.0   172.0    59.0   \n",
       "4      3.0  5.0   3.0                1.0  ...  20.0   170.0    59.0   \n",
       "\n",
       "   Number of siblings  Gender  Left - right handed                Education  \\\n",
       "0                 1.0  female         right handed  college/bachelor degree   \n",
       "1                 2.0  female         right handed  college/bachelor degree   \n",
       "2                 2.0  female         right handed         secondary school   \n",
       "3                 1.0  female         right handed  college/bachelor degree   \n",
       "4                 1.0  female         right handed         secondary school   \n",
       "\n",
       "   Only child  Village - town  House - block of flats  \n",
       "0          no         village          block of flats  \n",
       "1          no            city          block of flats  \n",
       "2          no            city          block of flats  \n",
       "3         yes            city          house/bungalow  \n",
       "4          no         village          house/bungalow  \n",
       "\n",
       "[5 rows x 150 columns]"
      ],
      "text/html": "<div>\n<style scoped>\n    .dataframe tbody tr th:only-of-type {\n        vertical-align: middle;\n    }\n\n    .dataframe tbody tr th {\n        vertical-align: top;\n    }\n\n    .dataframe thead th {\n        text-align: right;\n    }\n</style>\n<table border=\"1\" class=\"dataframe\">\n  <thead>\n    <tr style=\"text-align: right;\">\n      <th></th>\n      <th>Music</th>\n      <th>Slow songs or fast songs</th>\n      <th>Dance</th>\n      <th>Folk</th>\n      <th>Country</th>\n      <th>Classical music</th>\n      <th>Musical</th>\n      <th>Pop</th>\n      <th>Rock</th>\n      <th>Metal or Hardrock</th>\n      <th>...</th>\n      <th>Age</th>\n      <th>Height</th>\n      <th>Weight</th>\n      <th>Number of siblings</th>\n      <th>Gender</th>\n      <th>Left - right handed</th>\n      <th>Education</th>\n      <th>Only child</th>\n      <th>Village - town</th>\n      <th>House - block of flats</th>\n    </tr>\n  </thead>\n  <tbody>\n    <tr>\n      <th>0</th>\n      <td>5.0</td>\n      <td>3.0</td>\n      <td>2.0</td>\n      <td>1.0</td>\n      <td>2.0</td>\n      <td>2.0</td>\n      <td>1.0</td>\n      <td>5.0</td>\n      <td>5.0</td>\n      <td>1.0</td>\n      <td>...</td>\n      <td>20.0</td>\n      <td>163.0</td>\n      <td>48.0</td>\n      <td>1.0</td>\n      <td>female</td>\n      <td>right handed</td>\n      <td>college/bachelor degree</td>\n      <td>no</td>\n      <td>village</td>\n      <td>block of flats</td>\n    </tr>\n    <tr>\n      <th>1</th>\n      <td>4.0</td>\n      <td>4.0</td>\n      <td>2.0</td>\n      <td>1.0</td>\n      <td>1.0</td>\n      <td>1.0</td>\n      <td>2.0</td>\n      <td>3.0</td>\n      <td>5.0</td>\n      <td>4.0</td>\n      <td>...</td>\n      <td>19.0</td>\n      <td>163.0</td>\n      <td>58.0</td>\n      <td>2.0</td>\n      <td>female</td>\n      <td>right handed</td>\n      <td>college/bachelor degree</td>\n      <td>no</td>\n      <td>city</td>\n      <td>block of flats</td>\n    </tr>\n    <tr>\n      <th>2</th>\n      <td>5.0</td>\n      <td>5.0</td>\n      <td>2.0</td>\n      <td>2.0</td>\n      <td>3.0</td>\n      <td>4.0</td>\n      <td>5.0</td>\n      <td>3.0</td>\n      <td>5.0</td>\n      <td>3.0</td>\n      <td>...</td>\n      <td>20.0</td>\n      <td>176.0</td>\n      <td>67.0</td>\n      <td>2.0</td>\n      <td>female</td>\n      <td>right handed</td>\n      <td>secondary school</td>\n      <td>no</td>\n      <td>city</td>\n      <td>block of flats</td>\n    </tr>\n    <tr>\n      <th>3</th>\n      <td>5.0</td>\n      <td>3.0</td>\n      <td>2.0</td>\n      <td>1.0</td>\n      <td>1.0</td>\n      <td>1.0</td>\n      <td>1.0</td>\n      <td>2.0</td>\n      <td>2.0</td>\n      <td>1.0</td>\n      <td>...</td>\n      <td>22.0</td>\n      <td>172.0</td>\n      <td>59.0</td>\n      <td>1.0</td>\n      <td>female</td>\n      <td>right handed</td>\n      <td>college/bachelor degree</td>\n      <td>yes</td>\n      <td>city</td>\n      <td>house/bungalow</td>\n    </tr>\n    <tr>\n      <th>4</th>\n      <td>5.0</td>\n      <td>3.0</td>\n      <td>4.0</td>\n      <td>3.0</td>\n      <td>2.0</td>\n      <td>4.0</td>\n      <td>3.0</td>\n      <td>5.0</td>\n      <td>3.0</td>\n      <td>1.0</td>\n      <td>...</td>\n      <td>20.0</td>\n      <td>170.0</td>\n      <td>59.0</td>\n      <td>1.0</td>\n      <td>female</td>\n      <td>right handed</td>\n      <td>secondary school</td>\n      <td>no</td>\n      <td>village</td>\n      <td>house/bungalow</td>\n    </tr>\n  </tbody>\n</table>\n<p>5 rows × 150 columns</p>\n</div>"
     },
     "metadata": {},
     "execution_count": 15
    }
   ],
   "source": [
    "df2.head(5)"
   ]
  }
 ],
 "metadata": {
  "kernelspec": {
   "name": "python383jvsc74a57bd05b2590632c3ad6dfdff6f783f457929722b836d24f16907c2f3e203e0960d9b8",
   "display_name": "Python 3.8.3 64-bit ('stats')"
  },
  "language_info": {
   "codemirror_mode": {
    "name": "ipython",
    "version": 3
   },
   "file_extension": ".py",
   "mimetype": "text/x-python",
   "name": "python",
   "nbconvert_exporter": "python",
   "pygments_lexer": "ipython3",
   "version": "3.8.3"
  }
 },
 "nbformat": 4,
 "nbformat_minor": 5
}